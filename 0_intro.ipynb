{
 "cells": [
  {
   "cell_type": "markdown",
   "metadata": {},
   "source": [
    "# data visualisation : adding interaction\n",
    "\n",
    "The landscape is quite... riche.\n",
    "\n",
    "![image](./images/PythonVisLandscape.jpg)"
   ]
  },
  {
   "cell_type": "markdown",
   "metadata": {},
   "source": [
    "# Objectifs of the presentation :\n",
    "\n",
    "- showing solutions for interactive visualisation : Matplotlib and Bokeh\n",
    "\n",
    "\n",
    "But remember :\n",
    "- the best tool is the one you know how to use\n",
    "- better to master one tool than to learn ten of them\n",
    "- especialy as then lead to almost the same result \n"
   ]
  },
  {
   "cell_type": "markdown",
   "metadata": {},
   "source": [
    "## Matlotlib :\n",
    "\n",
    "- The oldest visualisation module for Python\n",
    "\n",
    "![image](./images/matplotlib_summary.png)\n",
    "![image](./images/matplotlib_history.png)"
   ]
  },
  {
   "cell_type": "markdown",
   "metadata": {},
   "source": [
    "\n",
    "- Multiples backends are availables :\n",
    "    * non-interactive backends (used via the `save_fig` command, in jupyter with `%matplotlib inline`, and default in some IDE)\n",
    "    * Interactive backend (pop-up with the `show` commandn, in jupyter with `matplotlib %widget` or `%matplotlib %notebook`)\n"
   ]
  },
  {
   "cell_type": "code",
   "execution_count": 4,
   "metadata": {},
   "outputs": [
    {
     "data": {
      "text/plain": [
       "(['GTK3Agg',\n",
       "  'GTK3Cairo',\n",
       "  'MacOSX',\n",
       "  'nbAgg',\n",
       "  'Qt4Agg',\n",
       "  'Qt4Cairo',\n",
       "  'Qt5Agg',\n",
       "  'Qt5Cairo',\n",
       "  'TkAgg',\n",
       "  'TkCairo',\n",
       "  'WebAgg',\n",
       "  'WX',\n",
       "  'WXAgg',\n",
       "  'WXCairo'],\n",
       " ['agg', 'cairo', 'pdf', 'pgf', 'ps', 'svg', 'template'])"
      ]
     },
     "execution_count": 4,
     "metadata": {},
     "output_type": "execute_result"
    }
   ],
   "source": [
    "import matplotlib\n",
    "matplotlib.rcsetup.interactive_bk , matplotlib.rcsetup.non_interactive_bk\n"
   ]
  },
  {
   "cell_type": "markdown",
   "metadata": {},
   "source": [
    "### Pros :\n",
    "- Greate community, lots of examples and how-tos\n",
    "- You can do everything \n",
    "- full python\n",
    "\n",
    "### Conts :\n",
    "- it is extremely hard to do anything\n",
    "- the long history leads to unconsistent interface\n",
    "- difficult to extract interaction outside of jupyter"
   ]
  },
  {
   "cell_type": "markdown",
   "metadata": {},
   "source": [
    "# Bokeh \n",
    "\n",
    "* An interactive JavaScript Library\n",
    "* meant to be used on web-pages\n",
    "* as Jupyter-notebook runs on the browser, bokeh can be integrated in a jupyter notebook\n",
    "\n",
    "\n",
    "![image](./images/bokeh_summary.png)\n",
    "\n",
    "![image](./images/bokeh_history.png)"
   ]
  },
  {
   "cell_type": "markdown",
   "metadata": {},
   "source": [
    "* Bokeh visualisation are **only** JS, the python mobule only generate the JS figures\n",
    "* Once the plot is constructed, it can easily be exported in plain standalone web page\n",
    "* complexe interactions with python can be obtained with a \"bokeh server\""
   ]
  },
  {
   "cell_type": "markdown",
   "metadata": {},
   "source": [
    "## Pros\n",
    "- interaction by default (tools, interface)\n",
    "- build to be online\n",
    "- cleaner interface (only object oriented)\n",
    "\n",
    "## Cons\n",
    "- yet another tool to learn\n",
    "- interface different than matplotlib"
   ]
  },
  {
   "cell_type": "code",
   "execution_count": null,
   "metadata": {},
   "outputs": [],
   "source": []
  }
 ],
 "metadata": {
  "hide_input": false,
  "kernelspec": {
   "display_name": "Python 3.7",
   "language": "python",
   "name": "python3"
  },
  "language_info": {
   "codemirror_mode": {
    "name": "ipython",
    "version": 3
   },
   "file_extension": ".py",
   "mimetype": "text/x-python",
   "name": "python",
   "nbconvert_exporter": "python",
   "pygments_lexer": "ipython3",
   "version": "3.7.10"
  },
  "toc": {
   "base_numbering": 1,
   "nav_menu": {},
   "number_sections": true,
   "sideBar": true,
   "skip_h1_title": false,
   "title_cell": "Table of Contents",
   "title_sidebar": "Contents",
   "toc_cell": false,
   "toc_position": {},
   "toc_section_display": true,
   "toc_window_display": false
  }
 },
 "nbformat": 4,
 "nbformat_minor": 5
}
