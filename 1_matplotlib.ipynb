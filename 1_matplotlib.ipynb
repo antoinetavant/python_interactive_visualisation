{
 "cells": [
  {
   "cell_type": "markdown",
   "id": "613b366d-7bdc-4666-ad0c-e0251e4acd73",
   "metadata": {},
   "source": [
    "# Matplotlib\n",
    "Example of interactive plots"
   ]
  },
  {
   "cell_type": "code",
   "execution_count": 6,
   "id": "14eeb1dc-c512-4b1b-99df-679beaf33148",
   "metadata": {},
   "outputs": [],
   "source": [
    "import pandas as pd\n",
    "%matplotlib widget\n",
    "import matplotlib.pyplot as plt\n",
    "import seaborn as sns\n",
    "import numpy as np\n",
    "\n",
    "import datetime\n",
    "\n",
    "sns.set_theme()"
   ]
  },
  {
   "cell_type": "code",
   "execution_count": 69,
   "id": "d9d156aa-f406-4739-8df3-f539e4f4f5a0",
   "metadata": {},
   "outputs": [
    {
     "data": {
      "text/html": [
       "<div>\n",
       "<style scoped>\n",
       "    .dataframe tbody tr th:only-of-type {\n",
       "        vertical-align: middle;\n",
       "    }\n",
       "\n",
       "    .dataframe tbody tr th {\n",
       "        vertical-align: top;\n",
       "    }\n",
       "\n",
       "    .dataframe thead th {\n",
       "        text-align: right;\n",
       "    }\n",
       "</style>\n",
       "<table border=\"1\" class=\"dataframe\">\n",
       "  <thead>\n",
       "    <tr style=\"text-align: right;\">\n",
       "      <th></th>\n",
       "      <th>Bx</th>\n",
       "      <th>By</th>\n",
       "      <th>Bz</th>\n",
       "      <th>Np</th>\n",
       "      <th>Vx</th>\n",
       "      <th>Vy</th>\n",
       "      <th>Vz</th>\n",
       "      <th>Tp</th>\n",
       "    </tr>\n",
       "  </thead>\n",
       "  <tbody>\n",
       "    <tr>\n",
       "      <th>2007-03-07 17:56:00</th>\n",
       "      <td>6.748950</td>\n",
       "      <td>-2.432548</td>\n",
       "      <td>14.107735</td>\n",
       "      <td>17.896076</td>\n",
       "      <td>3.322925</td>\n",
       "      <td>-100.716929</td>\n",
       "      <td>-276.617694</td>\n",
       "      <td>2.718395e+06</td>\n",
       "    </tr>\n",
       "    <tr>\n",
       "      <th>2007-03-07 17:57:00</th>\n",
       "      <td>6.822725</td>\n",
       "      <td>-3.480312</td>\n",
       "      <td>15.261338</td>\n",
       "      <td>77.188804</td>\n",
       "      <td>11.775027</td>\n",
       "      <td>26.851344</td>\n",
       "      <td>-81.346872</td>\n",
       "      <td>3.454449e+06</td>\n",
       "    </tr>\n",
       "    <tr>\n",
       "      <th>2007-03-07 17:58:00</th>\n",
       "      <td>5.256876</td>\n",
       "      <td>-2.683442</td>\n",
       "      <td>15.043352</td>\n",
       "      <td>58.404967</td>\n",
       "      <td>-9.468616</td>\n",
       "      <td>100.423579</td>\n",
       "      <td>-23.419666</td>\n",
       "      <td>3.028418e+06</td>\n",
       "    </tr>\n",
       "    <tr>\n",
       "      <th>2007-03-07 17:59:00</th>\n",
       "      <td>5.085039</td>\n",
       "      <td>-3.154718</td>\n",
       "      <td>16.192981</td>\n",
       "      <td>35.274029</td>\n",
       "      <td>-0.098382</td>\n",
       "      <td>135.313390</td>\n",
       "      <td>250.618605</td>\n",
       "      <td>2.746372e+06</td>\n",
       "    </tr>\n",
       "    <tr>\n",
       "      <th>2007-03-07 18:01:00</th>\n",
       "      <td>3.884535</td>\n",
       "      <td>-4.839686</td>\n",
       "      <td>12.379301</td>\n",
       "      <td>6.945407</td>\n",
       "      <td>-18.534470</td>\n",
       "      <td>-150.424068</td>\n",
       "      <td>-382.918429</td>\n",
       "      <td>5.036530e+06</td>\n",
       "    </tr>\n",
       "  </tbody>\n",
       "</table>\n",
       "</div>"
      ],
      "text/plain": [
       "                           Bx        By         Bz         Np         Vx  \\\n",
       "2007-03-07 17:56:00  6.748950 -2.432548  14.107735  17.896076   3.322925   \n",
       "2007-03-07 17:57:00  6.822725 -3.480312  15.261338  77.188804  11.775027   \n",
       "2007-03-07 17:58:00  5.256876 -2.683442  15.043352  58.404967  -9.468616   \n",
       "2007-03-07 17:59:00  5.085039 -3.154718  16.192981  35.274029  -0.098382   \n",
       "2007-03-07 18:01:00  3.884535 -4.839686  12.379301   6.945407 -18.534470   \n",
       "\n",
       "                             Vy          Vz            Tp  \n",
       "2007-03-07 17:56:00 -100.716929 -276.617694  2.718395e+06  \n",
       "2007-03-07 17:57:00   26.851344  -81.346872  3.454449e+06  \n",
       "2007-03-07 17:58:00  100.423579  -23.419666  3.028418e+06  \n",
       "2007-03-07 17:59:00  135.313390  250.618605  2.746372e+06  \n",
       "2007-03-07 18:01:00 -150.424068 -382.918429  5.036530e+06  "
      ]
     },
     "execution_count": 69,
     "metadata": {},
     "output_type": "execute_result"
    }
   ],
   "source": [
    "dataframe = pd.read_pickle(\"./data/THB_data.pkl\").dropna()\n",
    "\n",
    "mask = dataframe.index < datetime.datetime(2007,4,1)\n",
    "\n",
    "small_dataframe = dataframe.iloc[mask]\n",
    "small_dataframe.head()"
   ]
  },
  {
   "cell_type": "markdown",
   "id": "a5d6faff-074c-4ea1-93d9-d68afe3346b1",
   "metadata": {},
   "source": [
    "# A simple plot"
   ]
  },
  {
   "cell_type": "code",
   "execution_count": 17,
   "id": "8584c868-8412-4554-947b-9e59de57a2e5",
   "metadata": {},
   "outputs": [
    {
     "data": {
      "application/vnd.jupyter.widget-view+json": {
       "model_id": "1716f46a7bb749e9b50e810c0f5b1e56",
       "version_major": 2,
       "version_minor": 0
      },
      "text/plain": [
       "Canvas(toolbar=Toolbar(toolitems=[('Home', 'Reset original view', 'home', 'home'), ('Back', 'Back to previous …"
      ]
     },
     "metadata": {},
     "output_type": "display_data"
    }
   ],
   "source": [
    "fig, ax = plt.subplots(1,1 )\n",
    "\n",
    "ax.plot(small_dataframe.index, small_dataframe.Bx)\n",
    "\n",
    "ax.set_xlabel(\"Date of the observation\")\n",
    "ax.set_ylabel(\"B field [unit]\")\n",
    "ax.set_title('Measurment of the Magnetif field')\n",
    "\n",
    "plt.xticks(rotation=45)\n",
    "plt.tight_layout()"
   ]
  },
  {
   "cell_type": "markdown",
   "id": "2613d979-bff7-4902-a726-253bc19d849e",
   "metadata": {},
   "source": [
    "# adding interaction to the plot\n",
    "\n",
    "In matplotlib, interactions needs to :\n",
    "- gate the line to change\n",
    "- change the line data\n",
    "- redraw"
   ]
  },
  {
   "cell_type": "code",
   "execution_count": 22,
   "id": "234841e7-4b58-479f-afa4-1742ab518053",
   "metadata": {},
   "outputs": [],
   "source": [
    "import ipywidgets as widgets"
   ]
  },
  {
   "cell_type": "code",
   "execution_count": 49,
   "id": "0c50531f-52b0-4f9c-89f8-41cdf1378750",
   "metadata": {},
   "outputs": [
    {
     "data": {
      "application/vnd.jupyter.widget-view+json": {
       "model_id": "b01686a6f44249b1bf0215ddb74c7625",
       "version_major": 2,
       "version_minor": 0
      },
      "text/plain": [
       "Canvas(toolbar=Toolbar(toolitems=[('Home', 'Reset original view', 'home', 'home'), ('Back', 'Back to previous …"
      ]
     },
     "metadata": {},
     "output_type": "display_data"
    }
   ],
   "source": [
    "fig, ax = plt.subplots(1,1 )\n",
    "\n",
    "line_Bfield, = ax.plot(small_dataframe.index, small_dataframe.Bx)\n",
    "\n",
    "ax.set_xlabel(\"Date of the observation\")\n",
    "ax.set_ylabel(\"B field [unit]\")\n",
    "ax.set_title('Measurment of the Magnetif field')\n",
    "\n",
    "plt.xticks(rotation=45)\n",
    "plt.tight_layout()"
   ]
  },
  {
   "cell_type": "code",
   "execution_count": 63,
   "id": "d50ab4b5-d127-4fe7-b036-023bc6c0a111",
   "metadata": {
    "tags": []
   },
   "outputs": [],
   "source": [
    "def update(change):\n",
    "    \"\"\"Update the line are redraw the figure\n",
    "    The change argument depends of the widget\n",
    "    The \"\"\"\n",
    "\n",
    "    line_Bfield.set_ydata(small_dataframe[change[\"new\"]])\n",
    "    ax.set_ylabel(change[\"new\"] + \" [unit]\")\n",
    "    \n",
    "    # recompute the ax.dataLim\n",
    "    ax.relim()\n",
    "    # update ax.viewLim using the new dataLim\n",
    "    ax.autoscale_view()\n",
    "\n",
    "    fig.canvas.draw()\n",
    "    "
   ]
  },
  {
   "cell_type": "code",
   "execution_count": 55,
   "id": "e9f5db1b-4dce-4b5e-9b15-0bb1e3749df2",
   "metadata": {
    "tags": []
   },
   "outputs": [],
   "source": [
    "radiobuttons = widgets.RadioButtons(\n",
    "    value='Bx', \n",
    "    options=list(small_dataframe.keys()), \n",
    "    description='Selection the data to plot'\n",
    ")"
   ]
  },
  {
   "cell_type": "code",
   "execution_count": 56,
   "id": "6d2c9de7-4efa-4e05-b5b4-db21b2a6ea61",
   "metadata": {
    "tags": []
   },
   "outputs": [],
   "source": [
    "radiobuttons.observe(update, 'value')"
   ]
  },
  {
   "cell_type": "code",
   "execution_count": 57,
   "id": "265f6b30-b367-41a0-be18-e2787b8e8902",
   "metadata": {
    "jupyter": {
     "source_hidden": true
    },
    "tags": []
   },
   "outputs": [
    {
     "data": {
      "application/vnd.jupyter.widget-view+json": {
       "model_id": "1d4d6fd6e99e434db86be7b5cfe7af00",
       "version_major": 2,
       "version_minor": 0
      },
      "text/plain": [
       "RadioButtons(description='Selection the data to plot', options=('Bx', 'By', 'Bz', 'Np', 'Vx', 'Vy', 'Vz', 'Tp'…"
      ]
     },
     "metadata": {},
     "output_type": "display_data"
    }
   ],
   "source": [
    "radiobuttons"
   ]
  },
  {
   "cell_type": "markdown",
   "id": "a7cf2f9e-1552-40d2-98e0-932bc6917da0",
   "metadata": {},
   "source": [
    "Widgets can also be used as decoractors"
   ]
  },
  {
   "cell_type": "code",
   "execution_count": 61,
   "id": "663ec9f1-77a3-472d-8d78-ee487c02c4f9",
   "metadata": {},
   "outputs": [
    {
     "data": {
      "application/vnd.jupyter.widget-view+json": {
       "model_id": "e15624c54e674875abc89dce30f8fd3c",
       "version_major": 2,
       "version_minor": 0
      },
      "text/plain": [
       "Canvas(toolbar=Toolbar(toolitems=[('Home', 'Reset original view', 'home', 'home'), ('Back', 'Back to previous …"
      ]
     },
     "metadata": {},
     "output_type": "display_data"
    },
    {
     "data": {
      "application/vnd.jupyter.widget-view+json": {
       "model_id": "933532c5ffc64c69a889ec761612d7bb",
       "version_major": 2,
       "version_minor": 0
      },
      "text/plain": [
       "interactive(children=(Dropdown(description='w', options=('Bx', 'By', 'Bz', 'Np', 'Vx', 'Vy', 'Vz', 'Tp'), valu…"
      ]
     },
     "metadata": {},
     "output_type": "display_data"
    }
   ],
   "source": [
    "# set up plot\n",
    "fig, ax = plt.subplots(1,1 )\n",
    "\n",
    "line_Bfield, = ax.plot(small_dataframe.index, small_dataframe.Bx)\n",
    "\n",
    "ax.set_xlabel(\"Date of the observation\")\n",
    "ax.set_ylabel(\"B field [unit]\")\n",
    "ax.set_title('Measurment of the Magnetif field')\n",
    "\n",
    "plt.xticks(rotation=45)\n",
    "plt.tight_layout()\n",
    "\n",
    " \n",
    "@widgets.interact(w=list(small_dataframe.keys()))\n",
    "def update(w = \"Bx\"):\n",
    "    \"\"\"Remove old lines from plot and plot new one\"\"\"\n",
    "    [l.remove() for l in ax.lines]\n",
    "    ax.plot(small_dataframe.index, small_dataframe[w], color='C0')\n",
    "    \n",
    "    ax.set_ylabel(w + \" [unit]\")\n",
    "    \n",
    "    # recompute the ax.dataLim\n",
    "    ax.relim()\n",
    "    # update ax.viewLim using the new dataLim\n",
    "    ax.autoscale_view()\n",
    "\n",
    "    fig.canvas.draw()\n",
    "    "
   ]
  },
  {
   "cell_type": "markdown",
   "id": "5233c1e7-7590-4455-b2e0-03d0b3b764c5",
   "metadata": {},
   "source": [
    "# interaction with the legend\n",
    "\n",
    "The example shows how to have interaction between the figure legend and the plot.\n",
    "\n",
    "It works, but is not that simple..."
   ]
  },
  {
   "cell_type": "code",
   "execution_count": 68,
   "id": "6ec0094b-8f4c-4d00-9ce9-cce2f36725d4",
   "metadata": {},
   "outputs": [
    {
     "data": {
      "application/vnd.jupyter.widget-view+json": {
       "model_id": "910d47f25cc04d36a64ff511762d184b",
       "version_major": 2,
       "version_minor": 0
      },
      "text/plain": [
       "Canvas(toolbar=Toolbar(toolitems=[('Home', 'Reset original view', 'home', 'home'), ('Back', 'Back to previous …"
      ]
     },
     "metadata": {},
     "output_type": "display_data"
    }
   ],
   "source": [
    "fig, ax = plt.subplots()\n",
    "ax.set_title('Click on legend line to toggle line on/off')\n",
    "\n",
    "line1, = ax.plot(small_dataframe.index, small_dataframe.Bx, lw=2,  label='Bx')\n",
    "line2, = ax.plot(small_dataframe.index, small_dataframe.By, lw=2,  label='By')\n",
    "leg = ax.legend(loc='upper left')\n",
    "leg.get_frame().set_alpha(0.4)\n",
    "\n",
    "# we will set up a dict mapping legend line to orig line, and enable\n",
    "# picking on the legend line\n",
    "lines = [line1, line2]\n",
    "lined = dict()\n",
    "for legline, origline in zip(leg.get_lines(), lines):\n",
    "    legline.set_picker(5)  # 5 pts tolerance\n",
    "    lined[legline] = origline\n",
    "\n",
    "\n",
    "def onpick(event):\n",
    "    # on the pick event, find the orig line corresponding to the\n",
    "    # legend proxy line, and toggle the visibility\n",
    "    legline = event.artist\n",
    "    origline = lined[legline]\n",
    "    vis = not origline.get_visible()\n",
    "    origline.set_visible(vis)\n",
    "    # Change the alpha on the line in the legend so we can see what lines\n",
    "    # have been toggled\n",
    "    if vis:\n",
    "        legline.set_alpha(1.0)\n",
    "    else:\n",
    "        legline.set_alpha(0.2)\n",
    "    fig.canvas.draw()\n",
    "\n",
    "fig.canvas.mpl_connect('pick_event', onpick)\n",
    "\n",
    "ax.set_xlabel(\"Date of the observation\")\n",
    "ax.set_ylabel(\"B field [unit]\")\n",
    "\n",
    "plt.xticks(rotation=45)\n",
    "plt.tight_layout()\n"
   ]
  },
  {
   "cell_type": "code",
   "execution_count": null,
   "id": "219e4c05-4465-4a1e-adc8-a77d597d995f",
   "metadata": {},
   "outputs": [],
   "source": []
  }
 ],
 "metadata": {
  "kernelspec": {
   "display_name": "Python 3",
   "language": "python",
   "name": "python3"
  },
  "language_info": {
   "codemirror_mode": {
    "name": "ipython",
    "version": 3
   },
   "file_extension": ".py",
   "mimetype": "text/x-python",
   "name": "python",
   "nbconvert_exporter": "python",
   "pygments_lexer": "ipython3",
   "version": "3.9.2"
  }
 },
 "nbformat": 4,
 "nbformat_minor": 5
}
