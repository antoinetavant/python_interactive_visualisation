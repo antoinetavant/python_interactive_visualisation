{
 "cells": [
  {
   "cell_type": "markdown",
   "metadata": {},
   "source": [
    "# 1D fluid model of HET\n",
    "\n",
    "Using the Fluid code of Roberto (ex Trevor's) in order to study some stuffs with it"
   ]
  },
  {
   "cell_type": "code",
   "execution_count": 1,
   "metadata": {
    "ExecuteTime": {
     "end_time": "2021-05-11T09:32:14.101397Z",
     "start_time": "2021-05-11T09:32:13.795025Z"
    },
    "pycharm": {
     "is_executing": false
    }
   },
   "outputs": [],
   "source": [
    "# %matplotlib inline\n",
    "\n",
    "import matplotlib.pyplot as plt\n",
    "import random\n",
    "import string\n",
    "import pickle\n",
    "import sys\n",
    "import numpy as np\n",
    "from multiprocessing import Pool, current_process\n",
    "\n",
    "from tqdm import tqdm_notebook as tqdm"
   ]
  },
  {
   "cell_type": "code",
   "execution_count": 2,
   "metadata": {
    "ExecuteTime": {
     "end_time": "2021-05-11T09:32:17.550193Z",
     "start_time": "2021-05-11T09:32:14.102983Z"
    },
    "jupyter": {
     "source_hidden": true
    },
    "pycharm": {
     "is_executing": false
    }
   },
   "outputs": [],
   "source": [
    "\n",
    "sys.path.append(\"../LPP1D//LPP1D\")\n",
    "from model import Model, OperatingConditions, NumericalConditions\n",
    "from diagnostics import init_figure, plot_figure\n",
    "\n",
    "def random_string(string_length):\n",
    "    \"\"\"Generate a random string with the combination of lowercase and uppercase letters \"\"\"\n",
    "    letters = string.ascii_letters\n",
    "    return ''.join(random.choice(letters) for _ in range(string_length))\n",
    "\n",
    "def self_tqdm(x, *args, **kwargs):\n",
    "    return x\n",
    "\n"
   ]
  },
  {
   "cell_type": "code",
   "execution_count": 3,
   "metadata": {
    "ExecuteTime": {
     "end_time": "2021-05-11T09:32:17.557848Z",
     "start_time": "2021-05-11T09:32:17.552053Z"
    },
    "code_folding": [
     0
    ],
    "jupyter": {
     "source_hidden": true
    },
    "pycharm": {
     "is_executing": false
    }
   },
   "outputs": [],
   "source": [
    "def simulate_once_ud(ud=250, ignore_RLC = True):\n",
    "    \"\"\"Simulate once, and return the data_file name and the data\"\"\"\n",
    "    opC = OperatingConditions()\n",
    "    nmC = NumericalConditions()\n",
    "    \n",
    "    opC.Tt = 1e-3  # secondes\n",
    "\n",
    "    opC.L = 5e-2  # m\n",
    "    opC.L0 = 4e-2  # m\n",
    "    opC.L1 = 4.9e-2  # m\n",
    "    opC.Capacitor = 6e-6\n",
    "\n",
    "    nmC.NG = 201\n",
    "    M = Model(opC=opC, nmC=nmC, ignore_RLC=ignore_RLC, self_tqdm=self_tqdm)\n",
    "    #M = Model(opC=opC, nmC=nmC, ignore_RLC=ignore_RLC)\n",
    "\n",
    "    M.init_simulation()\n",
    "\n",
    "    # First, run with the usual parameters in order to get the steady state\n",
    "    print(\"\\r Running first simulation ...\"+str(ud), end=\"\")\n",
    "    M.run_simulation()\n",
    "    \n",
    "    \n",
    "    M.init_compteur_and_diags()\n",
    "    M.opC.V0 = ud     # V\n",
    "    M.opC.Tt = 4e-3  # secondes\n",
    "\n",
    "    M.V = ud\n",
    "    M.circuit_RLC.V0 = ud\n",
    "    print(\"\\r Running 2nd simulation ...\"+str(ud), end=\"\")\n",
    "\n",
    "    M.run_simulation()\n",
    "    print(\"\\r Simulation DONE           \", end=\"\\n\")\n",
    "\n",
    "    #M.post_proc_simulation()\n",
    "\n",
    "    data_file_name = random_string(20)\n",
    "\n",
    "    #with open(\"data_stored/\"+data_file_name+\".dat\", \"wb\") as f:\n",
    "    #    pickle.dump([M.Nt, M.data_stor, M.circuit_RLC.R,\n",
    "    #                 M.circuit_RLC.L, M.circuit_RLC.C,\n",
    "    #                 ud, M.circuit_RLC.ignore], f)\n",
    "    return data_file_name, M.data_stor"
   ]
  },
  {
   "cell_type": "markdown",
   "metadata": {},
   "source": [
    "# Run the simulations\n",
    "\n",
    "Here, we solve for a few discharge tension "
   ]
  },
  {
   "cell_type": "code",
   "execution_count": 4,
   "metadata": {
    "ExecuteTime": {
     "end_time": "2021-05-11T09:32:17.585144Z",
     "start_time": "2021-05-11T09:32:17.559262Z"
    },
    "pycharm": {
     "is_executing": false
    }
   },
   "outputs": [],
   "source": [
    "save_figs = False"
   ]
  },
  {
   "cell_type": "code",
   "execution_count": 5,
   "metadata": {
    "ExecuteTime": {
     "end_time": "2021-05-11T09:32:17.590571Z",
     "start_time": "2021-05-11T09:32:17.586369Z"
    },
    "pycharm": {
     "is_executing": false
    }
   },
   "outputs": [],
   "source": [
    "ud_list = [215, 220, 225, 230, 235,240, 245,250, 255, 260, 262, 265, 267, 270, 273, 275, 277, 280, 285]\n",
    "#ud_list = [200, 207, 215,  220, 225, 230, 240, 250]\n",
    "#ud_list = [220, 225, 230]"
   ]
  },
  {
   "cell_type": "markdown",
   "metadata": {},
   "source": [
    "# No RLC circuit"
   ]
  },
  {
   "cell_type": "code",
   "execution_count": 6,
   "metadata": {
    "ExecuteTime": {
     "end_time": "2021-05-11T09:32:17.595497Z",
     "start_time": "2021-05-11T09:32:17.591778Z"
    }
   },
   "outputs": [],
   "source": [
    "def simulate_noRLC(ud):\n",
    "    return simulate_once_ud(ud, True)"
   ]
  },
  {
   "cell_type": "code",
   "execution_count": 7,
   "metadata": {
    "ExecuteTime": {
     "end_time": "2021-05-11T09:32:17.600924Z",
     "start_time": "2021-05-11T09:32:17.596677Z"
    }
   },
   "outputs": [],
   "source": [
    "import pickle\n",
    "\n",
    "filename = \"./results_example_Bokeh.dat\""
   ]
  },
  {
   "cell_type": "code",
   "execution_count": 8,
   "metadata": {
    "ExecuteTime": {
     "end_time": "2021-05-11T09:32:17.806237Z",
     "start_time": "2021-05-11T09:32:17.603053Z"
    },
    "pycharm": {
     "is_executing": true
    }
   },
   "outputs": [
    {
     "name": "stdout",
     "output_type": "stream",
     "text": [
      "CPU times: user 143 ms, sys: 53.8 ms, total: 197 ms\n",
      "Wall time: 198 ms\n"
     ]
    }
   ],
   "source": [
    "%%time\n",
    "run_parallele = True\n",
    "run_the_simulations = False\n",
    "\n",
    "if run_the_simulations : \n",
    "    if run_parallele:\n",
    "        \"Use multi processing to //ize the parametric study\"\n",
    "        pool = Pool(len(ud_list))\n",
    "        results_ud_noRLC = list(pool.map(simulate_noRLC, ud_list))\n",
    "        pool.close()\n",
    "    else:\n",
    "        results_ud_noRLC = list(map(simulate_noRLC, ud_list))\n",
    "        \n",
    "\n",
    "\n",
    "    with open(filename, \"wb\") as f:\n",
    "        pickle.dump([ud_list, results_ud_noRLC], f)\n",
    "\n",
    "else :\n",
    "    with open(filename, \"rb\") as f:\n",
    "        ud_list, results_ud_noRLC = pickle.load( f)"
   ]
  },
  {
   "cell_type": "markdown",
   "metadata": {},
   "source": [
    "## Quick visualisation"
   ]
  },
  {
   "cell_type": "code",
   "execution_count": 9,
   "metadata": {
    "ExecuteTime": {
     "end_time": "2021-05-11T09:32:18.667114Z",
     "start_time": "2021-05-11T09:32:17.808050Z"
    },
    "jupyter": {
     "source_hidden": true
    },
    "pycharm": {
     "is_executing": false
    }
   },
   "outputs": [
    {
     "name": "stderr",
     "output_type": "stream",
     "text": [
      "/opt/venv/lib/python3.7/site-packages/ipykernel_launcher.py:30: UserWarning: This figure was using constrained_layout==True, but that is incompatible with subplots_adjust and or tight_layout: setting constrained_layout==False. \n"
     ]
    },
    {
     "data": {
      "image/png": "[encoded data removed]",
      "text/plain": [
       "<Figure size 1000x400 with 2 Axes>"
      ]
     },
     "metadata": {
      "needs_background": "light"
     },
     "output_type": "display_data"
    }
   ],
   "source": [
    "plt.style.use(\"presentation\")\n",
    "plt.figure(figsize=(10,4))\n",
    "plt.subplot(121)\n",
    "\n",
    "for (name, data), ud in zip(results_ud_noRLC, ud_list):\n",
    "    time, current, tension = [data[k] for k in [\"Time\", \"Id\", \"Ud\"]]\n",
    "    if np.abs(current[-1]) < 1e14:\n",
    "        plt.plot(time, current, label=\"Ud = \"+str(ud)+\" V\")\n",
    "\n",
    "\n",
    "plt.title(\"Time evolution of the current descharge\")\n",
    "plt.xlabel(\"time [ms]\")\n",
    "plt.ylabel(\"Id [A]\")\n",
    "plt.xlim(0, 2)\n",
    "\n",
    "\n",
    "plt.subplot(122)\n",
    "\n",
    "for (name, data), ud in zip(results_ud_noRLC, ud_list):\n",
    "    time, current, tension = [data[k] for k in [\"Time\", \"Id\", \"Ud\"]]\n",
    "    if current[-1] < 1e2:\n",
    "        plt.plot(time, tension,label=\"Ud = \"+str(ud)+\" V\")\n",
    "#plt.legend()\n",
    "plt.xlim(0, 2)\n",
    "\n",
    "plt.title(\"Time evolution of the Voltage difference\")\n",
    "plt.xlabel(\"time [ms]\")\n",
    "plt.ylabel(\"Ud [V]\")\n",
    "\n",
    "plt.tight_layout()\n",
    "if save_figs:\n",
    "    plt.savefig(\"Id_t_ud.png\")"
   ]
  },
  {
   "cell_type": "code",
   "execution_count": 10,
   "metadata": {
    "ExecuteTime": {
     "end_time": "2021-05-11T09:32:20.025203Z",
     "start_time": "2021-05-11T09:32:18.668545Z"
    },
    "jupyter": {
     "source_hidden": true
    }
   },
   "outputs": [
    {
     "name": "stderr",
     "output_type": "stream",
     "text": [
      "/opt/venv/lib/python3.7/site-packages/ipykernel_launcher.py:40: UserWarning: This figure was using constrained_layout==True, but that is incompatible with subplots_adjust and or tight_layout: setting constrained_layout==False. \n"
     ]
    },
    {
     "data": {
      "image/png": "[encoded data removed]",
      "text/plain": [
       "<Figure size 1200x400 with 3 Axes>"
      ]
     },
     "metadata": {
      "needs_background": "light"
     },
     "output_type": "display_data"
    }
   ],
   "source": [
    "plt.figure(figsize=(12,4))\n",
    "\n",
    "plt.subplot(131)\n",
    "\n",
    "for (name, data), ud in zip(results_ud_noRLC, ud_list):\n",
    "    time, current, tension = [data[k] for k in [\"Time\", \"Id\", \"Ud\"]]\n",
    "    if current[-1] < 1e2:\n",
    "        plt.scatter(ud, current[len(time)//3*2:].mean(), c='k')\n",
    "        \n",
    "plt.title(\"mean Id as a function od Ud\")\n",
    "plt.xlabel(\"Ud [V]\")\n",
    "plt.ylabel(\"Id [A]\")\n",
    "plt.ylim(0)\n",
    "#if save_figs:\n",
    "#    plt.savefig(\"Id_ud.png\")\n",
    "\n",
    "plt.subplot(132)\n",
    "for (name, data), ud in zip(results_ud_noRLC, ud_list):\n",
    "    time, current, tension = [data[k] for k in [\"Time\", \"Id\", \"Ud\"]]\n",
    "    if current[-1] < 1e2:\n",
    "        plt.scatter(ud, current[len(time)//3*2:].std(), c='k')\n",
    "        \n",
    "plt.title(\"Oscilation Id as a function of Ud\")\n",
    "plt.xlabel(\"Ud [V]\")\n",
    "plt.ylabel(\"$\\\\sigma_{Id}$ [A]\")\n",
    "plt.ylim(0)\n",
    "\n",
    "\n",
    "plt.subplot(133)\n",
    "for (name, data), ud in zip(results_ud_noRLC, ud_list):\n",
    "    time, current, tension = [data[k] for k in [\"Time\", \"Id\", \"Ud\"]]\n",
    "    if current[-1] < 1e2:\n",
    "        plt.scatter(ud, current[len(time)//3*2:].max(), c='k')\n",
    "        \n",
    "plt.title(\"Maximum of Id as a function of Ud\")\n",
    "plt.xlabel(\"Ud [V]\")\n",
    "plt.ylabel(\"max$(Id)$ [A]\")\n",
    "plt.ylim(0)\n",
    "\n",
    "plt.tight_layout()\n",
    "\n",
    "if save_figs:\n",
    "    plt.savefig(\"Idosc_ud.png\")"
   ]
  },
  {
   "cell_type": "code",
   "execution_count": null,
   "metadata": {},
   "outputs": [],
   "source": []
  },
  {
   "cell_type": "markdown",
   "metadata": {},
   "source": [
    "# Interactive Vizualisation"
   ]
  },
  {
   "cell_type": "code",
   "execution_count": 11,
   "metadata": {
    "ExecuteTime": {
     "end_time": "2021-05-11T09:32:20.029955Z",
     "start_time": "2021-05-11T09:32:20.026662Z"
    }
   },
   "outputs": [
    {
     "data": {
      "text/plain": [
       "dict_keys([0, 1, 2, 3, 4, 5, 6, 7, 8, 9, 10, 11, 12, 13, 14, 15, 16, 17, 18, 19, 20, 21, 22, 23, 24, 25, 26, 27, 28, 29, 30, 31, 32, 33, 34, 35, 36, 37, 38, 39, 40, 41, 42, 43, 44, 45, 46, 47, 48, 49, 50, 51, 52, 53, 54, 55, 56, 57, 58, 59, 60, 61, 62, 63, 64, 65, 66, 67, 68, 69, 70, 71, 72, 73, 74, 75, 76, 77, 78, 79, 80, 81, 82, 83, 84, 85, 86, 87, 88, 89, 90, 91, 92, 93, 94, 95, 96, 97, 98, 99, 100, 101, 102, 103, 104, 105, 106, 107, 108, 109, 110, 111, 112, 113, 114, 115, 116, 117, 118, 119, 120, 121, 122, 123, 124, 125, 126, 127, 128, 129, 130, 131, 132, 133, 134, 135, 136, 137, 138, 139, 140, 141, 142, 143, 144, 145, 146, 147, 148, 149, 150, 151, 152, 153, 154, 155, 156, 157, 158, 159, 160, 161, 162, 163, 164, 165, 166, 167, 168, 169, 170, 171, 172, 173, 174, 175, 176, 177, 178, 179, 180, 181, 182, 183, 184, 185, 186, 187, 188, 189, 190, 191, 192, 193, 194, 195, 196, 197, 198, 199, 200, 201, 202, 203, 204, 205, 206, 207, 208, 209, 210, 211, 212, 213, 214, 215, 216, 217, 218, 219, 220, 221, 222, 223, 224, 225, 226, 227, 228, 229, 230, 231, 232, 233, 234, 235, 236, 237, 238, 239, 240, 241, 242, 243, 244, 245, 246, 247, 248, 249, 250, 251, 252, 253, 254, 255, 256, 257, 258, 259, 260, 261, 262, 263, 264, 265, 266, 267, 268, 269, 270, 271, 272, 273, 274, 275, 276, 277, 278, 279, 280, 281, 282, 283, 284, 285, 286, 287, 288, 289, 290, 291, 292, 293, 294, 295, 296, 297, 298, 299, 300, 301, 302, 303, 304, 305, 306, 307, 308, 309, 310, 311, 312, 313, 314, 315, 316, 317, 318, 319, 320, 321, 322, 323, 324, 325, 326, 327, 328, 329, 330, 331, 332, 'Time', 'Id', 'Ud', 'Te'])"
      ]
     },
     "execution_count": 11,
     "metadata": {},
     "output_type": "execute_result"
    }
   ],
   "source": [
    "randomname, A = results_ud_noRLC[0]\n",
    "A.keys()"
   ]
  },
  {
   "cell_type": "raw",
   "metadata": {},
   "source": [
    "           datas = [self.z / self.opC.L0,\n",
    "                    self.ng / self.opC.ng0,\n",
    "                    self.ni / self.opC.ng0 * 5,\n",
    "                    self.Gamma_i / self.ni / self.opC.vi0,\n",
    "                    self.phi / self.opC.V0,\n",
    "                    self.E / self.E.max(),\n",
    "                    self.Te/ self.opC.Te0*0.1,\n",
    "                    1e6 * self.counter_time,\n",
    "                    self.constants.q * self.I0 * self.opC.A0]"
   ]
  },
  {
   "cell_type": "code",
   "execution_count": 12,
   "metadata": {
    "ExecuteTime": {
     "end_time": "2021-05-11T09:32:20.054875Z",
     "start_time": "2021-05-11T09:32:20.031174Z"
    }
   },
   "outputs": [],
   "source": [
    "x, ng, ni, vi, Phi, Enorm, Te, t, I = A[0]"
   ]
  },
  {
   "cell_type": "code",
   "execution_count": 13,
   "metadata": {
    "ExecuteTime": {
     "end_time": "2021-05-11T09:32:20.061119Z",
     "start_time": "2021-05-11T09:32:20.056105Z"
    }
   },
   "outputs": [
    {
     "data": {
      "text/plain": [
       "9"
      ]
     },
     "execution_count": 13,
     "metadata": {},
     "output_type": "execute_result"
    }
   ],
   "source": [
    "len(A[0])"
   ]
  },
  {
   "cell_type": "code",
   "execution_count": 14,
   "metadata": {
    "ExecuteTime": {
     "end_time": "2021-05-11T09:32:20.547633Z",
     "start_time": "2021-05-11T09:32:20.062335Z"
    }
   },
   "outputs": [
    {
     "data": {
      "text/html": [
       "\n",
       "    <div class=\"bk-root\">\n",
       "        <a href=\"https://bokeh.org\" target=\"_blank\" class=\"bk-logo bk-logo-small bk-logo-notebook\"></a>\n",
       "        <span id=\"1001\">Loading BokehJS ...</span>\n",
       "    </div>"
      ]
     },
     "metadata": {},
     "output_type": "display_data"
    },
    {
     "data": {
      "application/javascript": [
       "\n",
       "(function(root) {\n",
       "  function now() {\n",
       "    return new Date();\n",
       "  }\n",
       "\n",
       "  var force = true;\n",
       "\n",
       "  if (typeof root._bokeh_onload_callbacks === \"undefined\" || force === true) {\n",
       "    root._bokeh_onload_callbacks = [];\n",
       "    root._bokeh_is_loading = undefined;\n",
       "  }\n",
       "\n",
       "  var JS_MIME_TYPE = 'application/javascript';\n",
       "  var HTML_MIME_TYPE = 'text/html';\n",
       "  var EXEC_MIME_TYPE = 'application/vnd.bokehjs_exec.v0+json';\n",
       "  var CLASS_NAME = 'output_bokeh rendered_html';\n",
       "\n",
       "  /**\n",
       "   * Render data to the DOM node\n",
       "   */\n",
       "  function render(props, node) {\n",
       "    var script = document.createElement(\"script\");\n",
       "    node.appendChild(script);\n",
       "  }\n",
       "\n",
       "  /**\n",
       "   * Handle when an output is cleared or removed\n",
       "   */\n",
       "  function handleClearOutput(event, handle) {\n",
       "    var cell = handle.cell;\n",
       "\n",
       "    var id = cell.output_area._bokeh_element_id;\n",
       "    var server_id = cell.output_area._bokeh_server_id;\n",
       "    // Clean up Bokeh references\n",
       "    if (id != null && id in Bokeh.index) {\n",
       "      Bokeh.index[id].model.document.clear();\n",
       "      delete Bokeh.index[id];\n",
       "    }\n",
       "\n",
       "    if (server_id !== undefined) {\n",
       "      // Clean up Bokeh references\n",
       "      var cmd = \"from bokeh.io.state import curstate; print(curstate().uuid_to_server['\" + server_id + \"'].get_sessions()[0].document.roots[0]._id)\";\n",
       "      cell.notebook.kernel.execute(cmd, {\n",
       "        iopub: {\n",
       "          output: function(msg) {\n",
       "            var id = msg.content.text.trim();\n",
       "            if (id in Bokeh.index) {\n",
       "              Bokeh.index[id].model.document.clear();\n",
       "              delete Bokeh.index[id];\n",
       "            }\n",
       "          }\n",
       "        }\n",
       "      });\n",
       "      // Destroy server and session\n",
       "      var cmd = \"import bokeh.io.notebook as ion; ion.destroy_server('\" + server_id + \"')\";\n",
       "      cell.notebook.kernel.execute(cmd);\n",
       "    }\n",
       "  }\n",
       "\n",
       "  /**\n",
       "   * Handle when a new output is added\n",
       "   */\n",
       "  function handleAddOutput(event, handle) {\n",
       "    var output_area = handle.output_area;\n",
       "    var output = handle.output;\n",
       "\n",
       "    // limit handleAddOutput to display_data with EXEC_MIME_TYPE content only\n",
       "    if ((output.output_type != \"display_data\") || (!output.data.hasOwnProperty(EXEC_MIME_TYPE))) {\n",
       "      return\n",
       "    }\n",
       "\n",
       "    var toinsert = output_area.element.find(\".\" + CLASS_NAME.split(' ')[0]);\n",
       "\n",
       "    if (output.metadata[EXEC_MIME_TYPE][\"id\"] !== undefined) {\n",
       "      toinsert[toinsert.length - 1].firstChild.textContent = output.data[JS_MIME_TYPE];\n",
       "      // store reference to embed id on output_area\n",
       "      output_area._bokeh_element_id = output.metadata[EXEC_MIME_TYPE][\"id\"];\n",
       "    }\n",
       "    if (output.metadata[EXEC_MIME_TYPE][\"server_id\"] !== undefined) {\n",
       "      var bk_div = document.createElement(\"div\");\n",
       "      bk_div.innerHTML = output.data[HTML_MIME_TYPE];\n",
       "      var script_attrs = bk_div.children[0].attributes;\n",
       "      for (var i = 0; i < script_attrs.length; i++) {\n",
       "        toinsert[toinsert.length - 1].firstChild.setAttribute(script_attrs[i].name, script_attrs[i].value);\n",
       "        toinsert[toinsert.length - 1].firstChild.textContent = bk_div.children[0].textContent\n",
       "      }\n",
       "      // store reference to server id on output_area\n",
       "      output_area._bokeh_server_id = output.metadata[EXEC_MIME_TYPE][\"server_id\"];\n",
       "    }\n",
       "  }\n",
       "\n",
       "  function register_renderer(events, OutputArea) {\n",
       "\n",
       "    function append_mime(data, metadata, element) {\n",
       "      // create a DOM node to render to\n",
       "      var toinsert = this.create_output_subarea(\n",
       "        metadata,\n",
       "        CLASS_NAME,\n",
       "        EXEC_MIME_TYPE\n",
       "      );\n",
       "      this.keyboard_manager.register_events(toinsert);\n",
       "      // Render to node\n",
       "      var props = {data: data, metadata: metadata[EXEC_MIME_TYPE]};\n",
       "      render(props, toinsert[toinsert.length - 1]);\n",
       "      element.append(toinsert);\n",
       "      return toinsert\n",
       "    }\n",
       "\n",
       "    /* Handle when an output is cleared or removed */\n",
       "    events.on('clear_output.CodeCell', handleClearOutput);\n",
       "    events.on('delete.Cell', handleClearOutput);\n",
       "\n",
       "    /* Handle when a new output is added */\n",
       "    events.on('output_added.OutputArea', handleAddOutput);\n",
       "\n",
       "    /**\n",
       "     * Register the mime type and append_mime function with output_area\n",
       "     */\n",
       "    OutputArea.prototype.register_mime_type(EXEC_MIME_TYPE, append_mime, {\n",
       "      /* Is output safe? */\n",
       "      safe: true,\n",
       "      /* Index of renderer in `output_area.display_order` */\n",
       "      index: 0\n",
       "    });\n",
       "  }\n",
       "\n",
       "  // register the mime type if in Jupyter Notebook environment and previously unregistered\n",
       "  if (root.Jupyter !== undefined) {\n",
       "    var events = require('base/js/events');\n",
       "    var OutputArea = require('notebook/js/outputarea').OutputArea;\n",
       "\n",
       "    if (OutputArea.prototype.mime_types().indexOf(EXEC_MIME_TYPE) == -1) {\n",
       "      register_renderer(events, OutputArea);\n",
       "    }\n",
       "  }\n",
       "\n",
       "  \n",
       "  if (typeof (root._bokeh_timeout) === \"undefined\" || force === true) {\n",
       "    root._bokeh_timeout = Date.now() + 5000;\n",
       "    root._bokeh_failed_load = false;\n",
       "  }\n",
       "\n",
       "  var NB_LOAD_WARNING = {'data': {'text/html':\n",
       "     \"<div style='background-color: #fdd'>\\n\"+\n",
       "     \"<p>\\n\"+\n",
       "     \"BokehJS does not appear to have successfully loaded. If loading BokehJS from CDN, this \\n\"+\n",
       "     \"may be due to a slow or bad network connection. Possible fixes:\\n\"+\n",
       "     \"</p>\\n\"+\n",
       "     \"<ul>\\n\"+\n",
       "     \"<li>re-rerun `output_notebook()` to attempt to load from CDN again, or</li>\\n\"+\n",
       "     \"<li>use INLINE resources instead, as so:</li>\\n\"+\n",
       "     \"</ul>\\n\"+\n",
       "     \"<code>\\n\"+\n",
       "     \"from bokeh.resources import INLINE\\n\"+\n",
       "     \"output_notebook(resources=INLINE)\\n\"+\n",
       "     \"</code>\\n\"+\n",
       "     \"</div>\"}};\n",
       "\n",
       "  function display_loaded() {\n",
       "    var el = document.getElementById(\"1001\");\n",
       "    if (el != null) {\n",
       "      el.textContent = \"BokehJS is loading...\";\n",
       "    }\n",
       "    if (root.Bokeh !== undefined) {\n",
       "      if (el != null) {\n",
       "        el.textContent = \"BokehJS \" + root.Bokeh.version + \" successfully loaded.\";\n",
       "      }\n",
       "    } else if (Date.now() < root._bokeh_timeout) {\n",
       "      setTimeout(display_loaded, 100)\n",
       "    }\n",
       "  }\n",
       "\n",
       "\n",
       "  function run_callbacks() {\n",
       "    try {\n",
       "      root._bokeh_onload_callbacks.forEach(function(callback) {\n",
       "        if (callback != null)\n",
       "          callback();\n",
       "      });\n",
       "    } finally {\n",
       "      delete root._bokeh_onload_callbacks\n",
       "    }\n",
       "    console.debug(\"Bokeh: all callbacks have finished\");\n",
       "  }\n",
       "\n",
       "  function load_libs(css_urls, js_urls, callback) {\n",
       "    if (css_urls == null) css_urls = [];\n",
       "    if (js_urls == null) js_urls = [];\n",
       "\n",
       "    root._bokeh_onload_callbacks.push(callback);\n",
       "    if (root._bokeh_is_loading > 0) {\n",
       "      console.debug(\"Bokeh: BokehJS is being loaded, scheduling callback at\", now());\n",
       "      return null;\n",
       "    }\n",
       "    if (js_urls == null || js_urls.length === 0) {\n",
       "      run_callbacks();\n",
       "      return null;\n",
       "    }\n",
       "    console.debug(\"Bokeh: BokehJS not loaded, scheduling load and callback at\", now());\n",
       "    root._bokeh_is_loading = css_urls.length + js_urls.length;\n",
       "\n",
       "    function on_load() {\n",
       "      root._bokeh_is_loading--;\n",
       "      if (root._bokeh_is_loading === 0) {\n",
       "        console.debug(\"Bokeh: all BokehJS libraries/stylesheets loaded\");\n",
       "        run_callbacks()\n",
       "      }\n",
       "    }\n",
       "\n",
       "    function on_error() {\n",
       "      console.error(\"failed to load \" + url);\n",
       "    }\n",
       "\n",
       "    for (var i = 0; i < css_urls.length; i++) {\n",
       "      var url = css_urls[i];\n",
       "      const element = document.createElement(\"link\");\n",
       "      element.onload = on_load;\n",
       "      element.onerror = on_error;\n",
       "      element.rel = \"stylesheet\";\n",
       "      element.type = \"text/css\";\n",
       "      element.href = url;\n",
       "      console.debug(\"Bokeh: injecting link tag for BokehJS stylesheet: \", url);\n",
       "      document.body.appendChild(element);\n",
       "    }\n",
       "\n",
       "    const hashes = {\"https://cdn.bokeh.org/bokeh/release/bokeh-2.2.1.min.js\": \"qkRvDQVAIfzsJo40iRBbxt6sttt0hv4lh74DG7OK4MCHv4C5oohXYoHUM5W11uqS\", \"https://cdn.bokeh.org/bokeh/release/bokeh-widgets-2.2.1.min.js\": \"Sb7Mr06a9TNlet/GEBeKaf5xH3eb6AlCzwjtU82wNPyDrnfoiVl26qnvlKjmcAd+\", \"https://cdn.bokeh.org/bokeh/release/bokeh-tables-2.2.1.min.js\": \"HaJ15vgfmcfRtB4c4YBOI4f1MUujukqInOWVqZJZZGK7Q+ivud0OKGSTn/Vm2iso\"};\n",
       "\n",
       "    for (var i = 0; i < js_urls.length; i++) {\n",
       "      var url = js_urls[i];\n",
       "      var element = document.createElement('script');\n",
       "      element.onload = on_load;\n",
       "      element.onerror = on_error;\n",
       "      element.async = false;\n",
       "      element.src = url;\n",
       "      if (url in hashes) {\n",
       "        element.crossOrigin = \"anonymous\";\n",
       "        element.integrity = \"sha384-\" + hashes[url];\n",
       "      }\n",
       "      console.debug(\"Bokeh: injecting script tag for BokehJS library: \", url);\n",
       "      document.head.appendChild(element);\n",
       "    }\n",
       "  };\n",
       "\n",
       "  function inject_raw_css(css) {\n",
       "    const element = document.createElement(\"style\");\n",
       "    element.appendChild(document.createTextNode(css));\n",
       "    document.body.appendChild(element);\n",
       "  }\n",
       "\n",
       "  \n",
       "  var js_urls = [\"https://cdn.bokeh.org/bokeh/release/bokeh-2.2.1.min.js\", \"https://cdn.bokeh.org/bokeh/release/bokeh-widgets-2.2.1.min.js\", \"https://cdn.bokeh.org/bokeh/release/bokeh-tables-2.2.1.min.js\"];\n",
       "  var css_urls = [];\n",
       "  \n",
       "\n",
       "  var inline_js = [\n",
       "    function(Bokeh) {\n",
       "      Bokeh.set_log_level(\"info\");\n",
       "    },\n",
       "    function(Bokeh) {\n",
       "    \n",
       "    \n",
       "    }\n",
       "  ];\n",
       "\n",
       "  function run_inline_js() {\n",
       "    \n",
       "    if (root.Bokeh !== undefined || force === true) {\n",
       "      \n",
       "    for (var i = 0; i < inline_js.length; i++) {\n",
       "      inline_js[i].call(root, root.Bokeh);\n",
       "    }\n",
       "    if (force === true) {\n",
       "        display_loaded();\n",
       "      }} else if (Date.now() < root._bokeh_timeout) {\n",
       "      setTimeout(run_inline_js, 100);\n",
       "    } else if (!root._bokeh_failed_load) {\n",
       "      console.log(\"Bokeh: BokehJS failed to load within specified timeout.\");\n",
       "      root._bokeh_failed_load = true;\n",
       "    } else if (force !== true) {\n",
       "      var cell = $(document.getElementById(\"1001\")).parents('.cell').data().cell;\n",
       "      cell.output_area.append_execute_result(NB_LOAD_WARNING)\n",
       "    }\n",
       "\n",
       "  }\n",
       "\n",
       "  if (root._bokeh_is_loading === 0) {\n",
       "    console.debug(\"Bokeh: BokehJS loaded, going straight to plotting\");\n",
       "    run_inline_js();\n",
       "  } else {\n",
       "    load_libs(css_urls, js_urls, function() {\n",
       "      console.debug(\"Bokeh: BokehJS plotting callback run at\", now());\n",
       "      run_inline_js();\n",
       "    });\n",
       "  }\n",
       "}(window));"
      ],
      "application/vnd.bokehjs_load.v0+json": "\n(function(root) {\n  function now() {\n    return new Date();\n  }\n\n  var force = true;\n\n  if (typeof root._bokeh_onload_callbacks === \"undefined\" || force === true) {\n    root._bokeh_onload_callbacks = [];\n    root._bokeh_is_loading = undefined;\n  }\n\n  \n\n  \n  if (typeof (root._bokeh_timeout) === \"undefined\" || force === true) {\n    root._bokeh_timeout = Date.now() + 5000;\n    root._bokeh_failed_load = false;\n  }\n\n  var NB_LOAD_WARNING = {'data': {'text/html':\n     \"<div style='background-color: #fdd'>\\n\"+\n     \"<p>\\n\"+\n     \"BokehJS does not appear to have successfully loaded. If loading BokehJS from CDN, this \\n\"+\n     \"may be due to a slow or bad network connection. Possible fixes:\\n\"+\n     \"</p>\\n\"+\n     \"<ul>\\n\"+\n     \"<li>re-rerun `output_notebook()` to attempt to load from CDN again, or</li>\\n\"+\n     \"<li>use INLINE resources instead, as so:</li>\\n\"+\n     \"</ul>\\n\"+\n     \"<code>\\n\"+\n     \"from bokeh.resources import INLINE\\n\"+\n     \"output_notebook(resources=INLINE)\\n\"+\n     \"</code>\\n\"+\n     \"</div>\"}};\n\n  function display_loaded() {\n    var el = document.getElementById(\"1001\");\n    if (el != null) {\n      el.textContent = \"BokehJS is loading...\";\n    }\n    if (root.Bokeh !== undefined) {\n      if (el != null) {\n        el.textContent = \"BokehJS \" + root.Bokeh.version + \" successfully loaded.\";\n      }\n    } else if (Date.now() < root._bokeh_timeout) {\n      setTimeout(display_loaded, 100)\n    }\n  }\n\n\n  function run_callbacks() {\n    try {\n      root._bokeh_onload_callbacks.forEach(function(callback) {\n        if (callback != null)\n          callback();\n      });\n    } finally {\n      delete root._bokeh_onload_callbacks\n    }\n    console.debug(\"Bokeh: all callbacks have finished\");\n  }\n\n  function load_libs(css_urls, js_urls, callback) {\n    if (css_urls == null) css_urls = [];\n    if (js_urls == null) js_urls = [];\n\n    root._bokeh_onload_callbacks.push(callback);\n    if (root._bokeh_is_loading > 0) {\n      console.debug(\"Bokeh: BokehJS is being loaded, scheduling callback at\", now());\n      return null;\n    }\n    if (js_urls == null || js_urls.length === 0) {\n      run_callbacks();\n      return null;\n    }\n    console.debug(\"Bokeh: BokehJS not loaded, scheduling load and callback at\", now());\n    root._bokeh_is_loading = css_urls.length + js_urls.length;\n\n    function on_load() {\n      root._bokeh_is_loading--;\n      if (root._bokeh_is_loading === 0) {\n        console.debug(\"Bokeh: all BokehJS libraries/stylesheets loaded\");\n        run_callbacks()\n      }\n    }\n\n    function on_error() {\n      console.error(\"failed to load \" + url);\n    }\n\n    for (var i = 0; i < css_urls.length; i++) {\n      var url = css_urls[i];\n      const element = document.createElement(\"link\");\n      element.onload = on_load;\n      element.onerror = on_error;\n      element.rel = \"stylesheet\";\n      element.type = \"text/css\";\n      element.href = url;\n      console.debug(\"Bokeh: injecting link tag for BokehJS stylesheet: \", url);\n      document.body.appendChild(element);\n    }\n\n    const hashes = {\"https://cdn.bokeh.org/bokeh/release/bokeh-2.2.1.min.js\": \"qkRvDQVAIfzsJo40iRBbxt6sttt0hv4lh74DG7OK4MCHv4C5oohXYoHUM5W11uqS\", \"https://cdn.bokeh.org/bokeh/release/bokeh-widgets-2.2.1.min.js\": \"Sb7Mr06a9TNlet/GEBeKaf5xH3eb6AlCzwjtU82wNPyDrnfoiVl26qnvlKjmcAd+\", \"https://cdn.bokeh.org/bokeh/release/bokeh-tables-2.2.1.min.js\": \"HaJ15vgfmcfRtB4c4YBOI4f1MUujukqInOWVqZJZZGK7Q+ivud0OKGSTn/Vm2iso\"};\n\n    for (var i = 0; i < js_urls.length; i++) {\n      var url = js_urls[i];\n      var element = document.createElement('script');\n      element.onload = on_load;\n      element.onerror = on_error;\n      element.async = false;\n      element.src = url;\n      if (url in hashes) {\n        element.crossOrigin = \"anonymous\";\n        element.integrity = \"sha384-\" + hashes[url];\n      }\n      console.debug(\"Bokeh: injecting script tag for BokehJS library: \", url);\n      document.head.appendChild(element);\n    }\n  };\n\n  function inject_raw_css(css) {\n    const element = document.createElement(\"style\");\n    element.appendChild(document.createTextNode(css));\n    document.body.appendChild(element);\n  }\n\n  \n  var js_urls = [\"https://cdn.bokeh.org/bokeh/release/bokeh-2.2.1.min.js\", \"https://cdn.bokeh.org/bokeh/release/bokeh-widgets-2.2.1.min.js\", \"https://cdn.bokeh.org/bokeh/release/bokeh-tables-2.2.1.min.js\"];\n  var css_urls = [];\n  \n\n  var inline_js = [\n    function(Bokeh) {\n      Bokeh.set_log_level(\"info\");\n    },\n    function(Bokeh) {\n    \n    \n    }\n  ];\n\n  function run_inline_js() {\n    \n    if (root.Bokeh !== undefined || force === true) {\n      \n    for (var i = 0; i < inline_js.length; i++) {\n      inline_js[i].call(root, root.Bokeh);\n    }\n    if (force === true) {\n        display_loaded();\n      }} else if (Date.now() < root._bokeh_timeout) {\n      setTimeout(run_inline_js, 100);\n    } else if (!root._bokeh_failed_load) {\n      console.log(\"Bokeh: BokehJS failed to load within specified timeout.\");\n      root._bokeh_failed_load = true;\n    } else if (force !== true) {\n      var cell = $(document.getElementById(\"1001\")).parents('.cell').data().cell;\n      cell.output_area.append_execute_result(NB_LOAD_WARNING)\n    }\n\n  }\n\n  if (root._bokeh_is_loading === 0) {\n    console.debug(\"Bokeh: BokehJS loaded, going straight to plotting\");\n    run_inline_js();\n  } else {\n    load_libs(css_urls, js_urls, function() {\n      console.debug(\"Bokeh: BokehJS plotting callback run at\", now());\n      run_inline_js();\n    });\n  }\n}(window));"
     },
     "metadata": {},
     "output_type": "display_data"
    }
   ],
   "source": [
    "from bokeh.io import output_notebook, output_file, push_notebook\n",
    "\n",
    "from bokeh.layouts import gridplot, layout, Spacer\n",
    "from bokeh.layouts import column, row\n",
    "from bokeh.models import CustomJS, Slider, TapTool, Span, Range1d\n",
    "from bokeh.plotting import ColumnDataSource, figure, output_file, show, save\n",
    "\n",
    "from bokeh.models import Span\n",
    "from bokeh.models.glyphs import Text\n",
    "from ipywidgets import interact\n",
    "\n",
    "output_notebook()"
   ]
  },
  {
   "cell_type": "code",
   "execution_count": 15,
   "metadata": {
    "ExecuteTime": {
     "end_time": "2021-05-11T09:32:20.552113Z",
     "start_time": "2021-05-11T09:32:20.548985Z"
    }
   },
   "outputs": [],
   "source": [
    "\n",
    "def timestep_to_dict(data, timestep=0):\n",
    "    x, ng, ni, vi, Phi, Enorm, Te, t, I = data[timestep]\n",
    "    return { \"x\": x, \"ng\":ng, \"ni\":ni, \"vi\":vi, \"phi\":Phi, \"E\":Enorm, \"Te\":Te, \"y\":ng }\n"
   ]
  },
  {
   "cell_type": "code",
   "execution_count": 16,
   "metadata": {
    "ExecuteTime": {
     "end_time": "2021-05-11T09:32:20.564984Z",
     "start_time": "2021-05-11T09:32:20.553346Z"
    }
   },
   "outputs": [],
   "source": [
    "ub_index = 7\n",
    "randomname, A = results_ud_noRLC[ub_index]\n",
    "\n",
    "B = {\"Time\":A[\"Time\"], \"Id\": A[\"Id\"], \"Ud\":A[\"Ud\"], \"Te\":A[\"Te\"]}\n",
    "    \n",
    "source = ColumnDataSource(data= timestep_to_dict(A, 0))\n",
    "\n",
    "sourc_temporals = ColumnDataSource(data=B)\n",
    "\n",
    "title_texts = {\"ng\": \"Neutral Gaz density (Xe)\",\n",
    "             \"ni\":\"Plasma density \",\n",
    "             \"vi\":\"Ion velocity\",\n",
    "             \"phi\": \"Electrostatic potential\",\n",
    "             \"E\": \"Electric field\",\n",
    "             \"Te\":\"Electron temperature\"}\n",
    "ylabel_texts = {\"ng\": \"ng [m⁻³]\",\n",
    "             \"ni\":\"ni, ne [m⁻³]\",\n",
    "             \"vi\":\"Ion velocity\",\n",
    "             \"phi\": \"Electrostatic potential\",\n",
    "             \"E\": \"Electric field\",\n",
    "             \"Te\":\"Electron temperature\"}"
   ]
  },
  {
   "cell_type": "code",
   "execution_count": 17,
   "metadata": {
    "ExecuteTime": {
     "end_time": "2021-05-11T09:32:20.644208Z",
     "start_time": "2021-05-11T09:32:20.566243Z"
    }
   },
   "outputs": [
    {
     "data": {
      "text/html": [
       "\n",
       "\n",
       "\n",
       "\n",
       "\n",
       "\n",
       "  <div class=\"bk-root\" id=\"adb8607d-b223-4a97-8bd4-57d456933772\" data-root-id=\"1004\"></div>\n"
      ]
     },
     "metadata": {},
     "output_type": "display_data"
    },
    {
     "data": {
      "application/javascript": [
       "(function(root) {\n",
       "  function embed_document(root) {\n",
       "    \n",
       "  var docs_json = {\"e25bd6ea-e04f-48d9-8c39-683f07d259ee\":{\"roots\":{\"references\":[{\"attributes\":{\"background_fill_color\":\"#fafafa\",\"below\":[{\"id\":\"1013\"}],\"center\":[{\"id\":\"1016\"},{\"id\":\"1020\"}],\"left\":[{\"id\":\"1017\"}],\"plot_height\":500,\"plot_width\":850,\"renderers\":[{\"id\":\"1040\"}],\"title\":{\"id\":\"1036\"},\"toolbar\":{\"id\":\"1028\"},\"toolbar_location\":\"below\",\"toolbar_sticky\":false,\"x_range\":{\"id\":\"1005\"},\"x_scale\":{\"id\":\"1009\"},\"y_range\":{\"id\":\"1007\"},\"y_scale\":{\"id\":\"1011\"}},\"id\":\"1004\",\"subtype\":\"Figure\",\"type\":\"Plot\"},{\"attributes\":{},\"id\":\"1022\",\"type\":\"PanTool\"},{\"attributes\":{\"axis_label\":\"ng [m\\u207b\\u00b3]\",\"formatter\":{\"id\":\"1047\"},\"ticker\":{\"id\":\"1018\"}},\"id\":\"1017\",\"type\":\"LinearAxis\"},{\"attributes\":{},\"id\":\"1023\",\"type\":\"WheelZoomTool\"},{\"attributes\":{},\"id\":\"1026\",\"type\":\"ResetTool\"},{\"attributes\":{},\"id\":\"1005\",\"type\":\"DataRange1d\"},{\"attributes\":{},\"id\":\"1021\",\"type\":\"CrosshairTool\"},{\"attributes\":{\"overlay\":{\"id\":\"1027\"}},\"id\":\"1024\",\"type\":\"BoxZoomTool\"},{\"attributes\":{},\"id\":\"1009\",\"type\":\"LinearScale\"},{\"attributes\":{},\"id\":\"1014\",\"type\":\"BasicTicker\"},{\"attributes\":{},\"id\":\"1025\",\"type\":\"SaveTool\"},{\"attributes\":{},\"id\":\"1007\",\"type\":\"DataRange1d\"},{\"attributes\":{\"axis\":{\"id\":\"1013\"},\"ticker\":null},\"id\":\"1016\",\"type\":\"Grid\"},{\"attributes\":{},\"id\":\"1049\",\"type\":\"Selection\"},{\"attributes\":{},\"id\":\"1011\",\"type\":\"LinearScale\"},{\"attributes\":{\"data_source\":{\"id\":\"1002\"},\"glyph\":{\"id\":\"1038\"},\"hover_glyph\":null,\"muted_glyph\":null,\"nonselection_glyph\":{\"id\":\"1039\"},\"selection_glyph\":null,\"view\":{\"id\":\"1041\"}},\"id\":\"1040\",\"type\":\"GlyphRenderer\"},{\"attributes\":{\"data\":{\"E\":{\"__ndarray__\":\"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\",\"dtype\":\"float64\",\"order\":\"little\",\"shape\":[201]},\"Te\":{\"__ndarray__\":\"xDfQ/+ystz/EN9D/7Ky3P6nt8hNq17c/lFu0XE5TuD8lD9DCUc24P1VXYM7mQrk/YjZ+pee0uT+EwXk6FSS6P9DVa0v8kLo/2lAeOAT8uj8yo7GGemW7P59V9naazbs/7BPoDZI0vD/kxHuKhZq8P6QifNOR/7w/BGGLNc5jvT8Fct2nTce9P63YFrsfKr4/YhccSlGMvj/q4Vz97O2+P2IggKz7Tr8/gBFFp4Svvz/nciv2xgfAP6UsqimON8A/A+gY1xlnwD8FLp9ya5bAP+aELgiExcA/i4izR2T0wD+BBpGRDCPBP7vY3QN9UcE/GKKoiLV/wT9MF1blta3BP11EB8t928E/V2HV5wwJwj//TJj4YjbCP2h829p/Y8I/r8GanmOQwj+TJ1yXDr3CP/WMPWyB6cI/f8+SJr0Vwz8VPLs+w0HDP4Ku4aaVbcM/YEhp0zaZwz+sBdjAqcTDP6fYH/fx78M/6KM1ihMbxD8lyvIXE0bEPxiuScP1cMQ/HB/fLMGbxD/ILCJpe8bEP0tBAfQq8cQ/Mc9eotYbxT+amWmRhUbFP+f1/BM/ccU/D74sngqcxT/4bB+v78bFP7RxV7n18cU/nJWLCSQdxj+fti2sgUjGP9hpv1EVdMY/H50VMuWfxj8sNq/u9svGP4IbR3RP+MY/KBPQ2/Ikxz9LahBL5FHHPwdEHNUlf8c/64H3Wrisxz/rILNsm9rHP5wyZSvNCMg/1sdlLEo3yD9IlEVeDWbIP7Eh/O8Plcg/wl7SOknEyD+YfZKvrvPIP8LDhsczI8k/LYbN+clSyT+Hl4C1YILJPyqgIWHlsck/tBarX0PhyT8aCY8bZBDKP+UH0hcvP8o/lwdSB4ptyj/Y6ifqWJvKP1DX7zB+yMo/6tqh5dr0yj+tNYPZTiDLP51Tmte4Sss/6oL12vZzyz+q8f9H5pvLP4BjEihkwss/6vhlZk3nyz8ddY8NfwrMP3iDsITWK8w/KvWZyzFLzD/q4Cy1b2jMP2rFXx9wg8w/5OpmKBSczD+wzJpgPrLMP+jV0vjSxcw/pOUE7bfWzD9VpBEr1eTMPwLYubUU8Mw/fN/Iw2L4zD8a/ovbrf3MPzcPterm/8w/EsnJWgH/zD9XWj8i8/rMP5+AXdK088w/uv/8oUHpzD8Ceyx1l9vMP1QAveG2ysw/BPWtMKO2zD9kYWdcYp/MP1SAqgv9hMw/IKgbiX5nzD/Qfka39EbMP2BQ/gBwI8w/BGwARgP9yz+0l8XDw9PLP5DHefrIp8s/wgYejix5yz/QYecjCkjLPwco/jt/FMs/J1PSB6veyj8Utks9rqbKP//3LeeqbMo/3cUYM8Qwyj8KVJs9HvPJP9DF3tzds8k/Eth0aihzyT8y796MIzHJP6giZQH17cg/0P3UZsKpyD84drwJsWTIPzQsr7LlHsg/MsAad4TYxz8HOyONsJHHPz/H8iKMSsc/R+XYOTgDxz8srIWF1LvGP0h7nk9/dMY/GP/bX1Utxj+MGNfocebFP9ZPpXnun8U/5P9o9OJZxT+k7AmKZRTFP3FSb7uKz8Q/NDvXYGWLxD+abVi4BkjEP9w8Vn1+BcQ/1BXYC9vDwz9FBpGUKYPDPz8NUWl2Q8M/Owg3bs0Ewz+VojzDOsfCPyjFIcXLisI/l+G5lpBPwj+c5xKAnhXCP+OL8p4T3cE/rq6jthymwT/CpxbM/nDBP78mIlUpPsE/4gomlcsOwT+zY2TUJd/AP+rDqUlQr8A/dXAYHGF/wD/o70SAbE/AP8fM3tWEH8A/FGQAi3Xfvz9q3p+8OoC/PxqIZmZ0Ib8/uum/7jrDvj+9eWg0pGW+PyRzpMTDCL4/SvAxEKusvT9vOnGfaVG9P28wmUYN97w/kLBGW6KdvD/YYVvtM0W8P/fUBgbM7bs/754a8XOXuz/kz5mWNEK7P1BXC+0W7ro/wubMkCSbuj/voPSRaEm6P3rr6pHw+Lk/Un7EVM6puT+nluv5GVy5P6RQ2SX1D7k/LGV1ho/FuD9U46pJLX24P8//8GAwN7g/YPGY0CX0tz8lVPfi2LS3Pw/aIA5verc/iaUdQ5FGtz8k9L41rhu3P2C4Zge1/rY/3+UpwcPjtj9EHCwpeuu2P0QcLCl667Y/\",\"dtype\":\"float64\",\"order\":\"little\",\"shape\":[201]},\"ng\":{\"__ndarray__\":\"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\",\"dtype\":\"float64\",\"order\":\"little\",\"shape\":[201]},\"ni\":{\"__ndarray__\":\"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\",\"dtype\":\"float64\",\"order\":\"little\",\"shape\":[201]},\"phi\":{\"__ndarray__\":\"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\",\"dtype\":\"float64\",\"order\":\"little\",\"shape\":[201]},\"vi\":{\"__ndarray__\":\"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\",\"dtype\":\"float64\",\"order\":\"little\",\"shape\":[201]},\"x\":{\"__ndarray__\":\"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\",\"dtype\":\"float64\",\"order\":\"little\",\"shape\":[201]},\"y\":{\"__ndarray__\":\"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\",\"dtype\":\"float64\",\"order\":\"little\",\"shape\":[201]}},\"selected\":{\"id\":\"1049\"},\"selection_policy\":{\"id\":\"1048\"}},\"id\":\"1002\",\"type\":\"ColumnDataSource\"},{\"attributes\":{},\"id\":\"1047\",\"type\":\"BasicTickFormatter\"},{\"attributes\":{\"line_alpha\":0.1,\"line_width\":3,\"x\":{\"field\":\"x\"},\"y\":{\"field\":\"y\"}},\"id\":\"1039\",\"type\":\"Line\"},{\"attributes\":{},\"id\":\"1045\",\"type\":\"BasicTickFormatter\"},{\"attributes\":{},\"id\":\"1018\",\"type\":\"BasicTicker\"},{\"attributes\":{\"axis\":{\"id\":\"1017\"},\"dimension\":1,\"ticker\":null},\"id\":\"1020\",\"type\":\"Grid\"},{\"attributes\":{\"axis_label\":\"Position [cm]\",\"formatter\":{\"id\":\"1045\"},\"ticker\":{\"id\":\"1014\"}},\"id\":\"1013\",\"type\":\"LinearAxis\"},{\"attributes\":{},\"id\":\"1048\",\"type\":\"UnionRenderers\"},{\"attributes\":{\"text\":\"Neutral Gaz density (Xe), t = 1.82 ms\"},\"id\":\"1036\",\"type\":\"Title\"},{\"attributes\":{\"source\":{\"id\":\"1002\"}},\"id\":\"1041\",\"type\":\"CDSView\"},{\"attributes\":{\"bottom_units\":\"screen\",\"fill_alpha\":0.5,\"fill_color\":\"lightgrey\",\"left_units\":\"screen\",\"level\":\"overlay\",\"line_alpha\":1.0,\"line_color\":\"black\",\"line_dash\":[4,4],\"line_width\":2,\"right_units\":\"screen\",\"top_units\":\"screen\"},\"id\":\"1027\",\"type\":\"BoxAnnotation\"},{\"attributes\":{\"active_drag\":null,\"active_inspect\":\"auto\",\"active_multi\":null,\"active_scroll\":\"auto\",\"active_tap\":\"auto\",\"tools\":[{\"id\":\"1021\"},{\"id\":\"1022\"},{\"id\":\"1023\"},{\"id\":\"1024\"},{\"id\":\"1025\"},{\"id\":\"1026\"}]},\"id\":\"1028\",\"type\":\"Toolbar\"},{\"attributes\":{\"line_alpha\":0.9,\"line_width\":3,\"x\":{\"field\":\"x\"},\"y\":{\"field\":\"y\"}},\"id\":\"1038\",\"type\":\"Line\"}],\"root_ids\":[\"1004\"]},\"title\":\"Bokeh Application\",\"version\":\"2.2.1\"}};\n",
       "  var render_items = [{\"docid\":\"e25bd6ea-e04f-48d9-8c39-683f07d259ee\",\"notebook_comms_target\":\"1051\",\"root_ids\":[\"1004\"],\"roots\":{\"1004\":\"adb8607d-b223-4a97-8bd4-57d456933772\"}}];\n",
       "  root.Bokeh.embed.embed_items_notebook(docs_json, render_items);\n",
       "\n",
       "  }\n",
       "  if (root.Bokeh !== undefined) {\n",
       "    embed_document(root);\n",
       "  } else {\n",
       "    var attempts = 0;\n",
       "    var timer = setInterval(function(root) {\n",
       "      if (root.Bokeh !== undefined) {\n",
       "        clearInterval(timer);\n",
       "        embed_document(root);\n",
       "      } else {\n",
       "        attempts++;\n",
       "        if (attempts > 100) {\n",
       "          clearInterval(timer);\n",
       "          console.log(\"Bokeh: ERROR: Unable to run BokehJS code because BokehJS library is missing\");\n",
       "        }\n",
       "      }\n",
       "    }, 10, root)\n",
       "  }\n",
       "})(window);"
      ],
      "application/vnd.bokehjs_exec.v0+json": ""
     },
     "metadata": {
      "application/vnd.bokehjs_exec.v0+json": {
       "id": "1004"
      }
     },
     "output_type": "display_data"
    },
    {
     "data": {
      "application/vnd.jupyter.widget-view+json": {
       "model_id": "0aeaaf8979ad441cab7b4f3cd83403aa",
       "version_major": 2,
       "version_minor": 0
      },
      "text/plain": [
       "interactive(children=(Dropdown(description='toplot', options=('ng', 'ni', 'phi'), value='ng'), IntSlider(value…"
      ]
     },
     "metadata": {},
     "output_type": "display_data"
    },
    {
     "data": {
      "text/plain": [
       "<function __main__.update_time(toplot, timestep=0)>"
      ]
     },
     "execution_count": 17,
     "metadata": {},
     "output_type": "execute_result"
    }
   ],
   "source": [
    "\n",
    "\n",
    "plot = figure( plot_width=850,\n",
    "              plot_height=500,\n",
    "              toolbar_location=\"below\",\n",
    "              toolbar_sticky=False,\n",
    "              tools= \"crosshair,pan,wheel_zoom,box_zoom,save,reset\",\n",
    "             background_fill_color=\"#fafafa\")\n",
    "\n",
    "# configure so that no drag tools are active\n",
    "plot.toolbar.active_drag = None\n",
    "\n",
    "\n",
    "plot.title.text = title_texts[\"ng\"]  + f\", t = {B['Time'][0]*1e3:2.2f} ms\"\n",
    "\n",
    "plot.xaxis.axis_label = \"Position [cm]\"\n",
    "plot.yaxis.axis_label = ylabel_texts['ng']\n",
    "\n",
    "\n",
    "line_ng = plot.line('x', 'y',\n",
    "          source=source,\n",
    "          line_width=3,\n",
    "          line_alpha=0.9,\n",
    "          line_color=\"black\")\n",
    "\n",
    "handle = show(plot, notebook_handle=True)\n",
    "\n",
    "def update_time(toplot, timestep=0):\n",
    "    line_ng.data_source.data = timestep_to_dict(A, int(timestep))\n",
    "    line_ng.data_source.data[\"y\"] = line_ng.data_source.data[toplot]\n",
    "    \n",
    "    plot.title.text =  title_texts[toplot] + f\", t = {B['Time'][timestep]*1e3:2.2f} ms\"\n",
    "    \n",
    "    push_notebook(handle=handle)\n",
    "    \n",
    "interact(update_time, toplot = [\"ng\", \"ni\", \"phi\"], timestep=(0, len(B[\"Time\"])-1, 1))\n",
    "\n",
    "\n",
    "\n"
   ]
  },
  {
   "cell_type": "code",
   "execution_count": null,
   "metadata": {},
   "outputs": [],
   "source": []
  },
  {
   "cell_type": "code",
   "execution_count": null,
   "metadata": {},
   "outputs": [],
   "source": []
  },
  {
   "cell_type": "code",
   "execution_count": 18,
   "metadata": {
    "ExecuteTime": {
     "end_time": "2021-05-11T09:32:20.657215Z",
     "start_time": "2021-05-11T09:32:20.645527Z"
    },
    "scrolled": false
   },
   "outputs": [],
   "source": [
    "ub_index = 7\n",
    "ud = 0\n",
    "randomname, A = results_ud_noRLC[ub_index]\n",
    "\n",
    "B = {\"Time\":A[\"Time\"], \"Id\": A[\"Id\"], \"Ud\":A[\"Ud\"], \"Te\":A[\"Te\"]}\n",
    "sourc_temporals = ColumnDataSource(data=B)\n",
    "\n",
    "plot_space = figure( plot_width=400,\n",
    "              plot_height=500,\n",
    "              toolbar_location=\"left\",\n",
    "              toolbar_sticky=False,\n",
    "              tools= \"crosshair,pan,wheel_zoom,box_zoom,save,reset\",\n",
    "             background_fill_color=\"#fafafa\")\n",
    "\n",
    "# configure so that no drag tools are active\n",
    "plot_space.toolbar.active_drag = None\n",
    "\n",
    "data_to_plot = \"ng\"\n",
    "timestep_plotted = 0\n",
    "\n",
    "plot_space.title.text = title_texts[data_to_plot]  + f\", t = {B['Time'][timestep_plotted]*1e3:2.2f} ms\"\n",
    "\n",
    "plot_space.xaxis.axis_label = \"Position [cm]\"\n",
    "plot_space.yaxis.axis_label = ylabel_texts[data_to_plot]\n",
    "\n",
    "\n",
    "profile_ng = plot_space.line('x', 'y',\n",
    "          source=source,\n",
    "          line_width=3,\n",
    "          line_alpha=0.9,\n",
    "          line_color=\"black\")\n",
    "\n",
    "\n"
   ]
  },
  {
   "cell_type": "code",
   "execution_count": 19,
   "metadata": {
    "ExecuteTime": {
     "end_time": "2021-05-11T09:32:20.678983Z",
     "start_time": "2021-05-11T09:32:20.658549Z"
    }
   },
   "outputs": [],
   "source": [
    "plot_time = figure( plot_width=400,\n",
    "              plot_height=250,\n",
    "              toolbar_location=\"right\",\n",
    "              toolbar_sticky=False,\n",
    "              tools= \"crosshair,pan,wheel_zoom,box_zoom,save,reset\",\n",
    "             background_fill_color=\"#fafafa\")\n",
    "\n",
    "\n",
    "temporal_id = plot_time.line('Time', 'Id',\n",
    "          source=sourc_temporals,\n",
    "          line_width=3,\n",
    "          line_alpha=0.9,\n",
    "          line_color=\"black\")\n",
    "\n",
    "current_time_line = Span(location=B['Time'][timestep_plotted],\n",
    "                         dimension='height',\n",
    "                         line_color='red',\n",
    "                         line_width=2,\n",
    "                         line_dash=\"dashed\")\n",
    "plot_time.renderers.extend([current_time_line])\n",
    "\n",
    "plot_time.xaxis.axis_label = \"time [mus]\"\n",
    "plot_time.yaxis.axis_label = \"Id [A]\"\n",
    "\n"
   ]
  },
  {
   "cell_type": "code",
   "execution_count": 23,
   "metadata": {
    "ExecuteTime": {
     "end_time": "2021-05-11T09:32:52.294175Z",
     "start_time": "2021-05-11T09:32:52.211134Z"
    }
   },
   "outputs": [
    {
     "data": {
      "text/html": [
       "\n",
       "\n",
       "\n",
       "\n",
       "\n",
       "\n",
       "  <div class=\"bk-root\" id=\"3e5445ed-d213-4c8a-9caf-426deb56bc7e\" data-root-id=\"1521\"></div>\n"
      ]
     },
     "metadata": {},
     "output_type": "display_data"
    },
    {
     "data": {
      "application/javascript": [
       "(function(root) {\n",
       "  function embed_document(root) {\n",
       "    \n",
       "  var docs_json = {\"dfbc4fa7-de3e-4dc7-a3c8-a18e7ae138c0\":{\"roots\":{\"references\":[{\"attributes\":{\"children\":[{\"id\":\"1109\"},{\"id\":\"1520\"}]},\"id\":\"1521\",\"type\":\"Row\"},{\"attributes\":{},\"id\":\"1246\",\"type\":\"UnionRenderers\"},{\"attributes\":{},\"id\":\"1458\",\"type\":\"DataRange1d\"},{\"attributes\":{},\"id\":\"1460\",\"type\":\"DataRange1d\"},{\"attributes\":{},\"id\":\"1247\",\"type\":\"Selection\"},{\"attributes\":{},\"id\":\"1123\",\"type\":\"BasicTicker\"},{\"attributes\":{\"end\":1.2,\"start\":-0.1},\"id\":\"1484\",\"type\":\"Range1d\"},{\"attributes\":{\"axis\":{\"id\":\"1122\"},\"dimension\":1,\"ticker\":null},\"id\":\"1125\",\"type\":\"Grid\"},{\"attributes\":{\"text\":\"Click on a point !\"},\"id\":\"1456\",\"type\":\"Title\"},{\"attributes\":{\"text\":\"Neutral Gaz density (Xe), t = 773.53 ms\"},\"id\":\"1141\",\"type\":\"Title\"},{\"attributes\":{\"fill_color\":{\"value\":\"#1f77b4\"},\"line_color\":{\"value\":\"#1f77b4\"},\"size\":{\"units\":\"screen\",\"value\":10},\"x\":{\"field\":\"x\"},\"y\":{\"field\":\"y\"}},\"id\":\"1480\",\"type\":\"Circle\"},{\"attributes\":{\"background_fill_color\":\"#fafafa\",\"below\":[{\"id\":\"1466\"}],\"center\":[{\"id\":\"1469\"},{\"id\":\"1473\"}],\"left\":[{\"id\":\"1470\"}],\"plot_height\":250,\"plot_width\":400,\"renderers\":[{\"id\":\"1482\"}],\"title\":{\"id\":\"1456\"},\"toolbar\":{\"id\":\"1476\"},\"toolbar_sticky\":false,\"x_range\":{\"id\":\"1458\"},\"x_scale\":{\"id\":\"1462\"},\"y_range\":{\"id\":\"1460\"},\"y_scale\":{\"id\":\"1464\"}},\"id\":\"1455\",\"subtype\":\"Figure\",\"type\":\"Plot\"},{\"attributes\":{\"bottom_units\":\"screen\",\"fill_alpha\":0.5,\"fill_color\":\"lightgrey\",\"left_units\":\"screen\",\"level\":\"overlay\",\"line_alpha\":1.0,\"line_color\":\"black\",\"line_dash\":[4,4],\"line_width\":2,\"right_units\":\"screen\",\"top_units\":\"screen\"},\"id\":\"1132\",\"type\":\"BoxAnnotation\"},{\"attributes\":{},\"id\":\"1049\",\"type\":\"Selection\"},{\"attributes\":{\"data\":{\"x\":[215,220,225,230,235,240,245,250,255,260,262,265,267,270,273,275,277,280,285],\"y\":[0.6702586303826987,0.6874723259300389,0.7050385133140887,0.7229479261115364,1.6249761242402876,3.219334957968359,5.196850014489935,7.217443873983099,9.840934910868166,12.455656722838837,13.456559030095619,14.807775658486031,15.594896083498435,16.504324868879053,16.904534945895254,19.557611200885244,23.03094163707423,24.578167929378825,36.11686717557174]},\"selected\":{\"id\":\"1578\"},\"selection_policy\":{\"id\":\"1577\"}},\"id\":\"1479\",\"type\":\"ColumnDataSource\"},{\"attributes\":{},\"id\":\"1048\",\"type\":\"UnionRenderers\"},{\"attributes\":{},\"id\":\"1462\",\"type\":\"LinearScale\"},{\"attributes\":{\"axis_label\":\"ng [m\\u207b\\u00b3]\",\"formatter\":{\"id\":\"1228\"},\"ticker\":{\"id\":\"1123\"}},\"id\":\"1122\",\"type\":\"LinearAxis\"},{\"attributes\":{\"source\":{\"id\":\"1002\"}},\"id\":\"1146\",\"type\":\"CDSView\"},{\"attributes\":{\"line_alpha\":0.9,\"line_width\":3,\"x\":{\"field\":\"x\"},\"y\":{\"field\":\"y\"}},\"id\":\"1143\",\"type\":\"Line\"},{\"attributes\":{},\"id\":\"1471\",\"type\":\"BasicTicker\"},{\"attributes\":{\"axis_label\":\"Ud [V]\",\"formatter\":{\"id\":\"1570\"},\"ticker\":{\"id\":\"1467\"}},\"id\":\"1466\",\"type\":\"LinearAxis\"},{\"attributes\":{},\"id\":\"1464\",\"type\":\"LinearScale\"},{\"attributes\":{\"dimension\":\"height\",\"line_color\":\"red\",\"line_dash\":[6],\"line_width\":2,\"location\":0.7735305227247794},\"id\":\"1183\",\"type\":\"Span\"},{\"attributes\":{},\"id\":\"1467\",\"type\":\"BasicTicker\"},{\"attributes\":{},\"id\":\"1128\",\"type\":\"WheelZoomTool\"},{\"attributes\":{},\"id\":\"1154\",\"type\":\"LinearScale\"},{\"attributes\":{\"axis\":{\"id\":\"1470\"},\"dimension\":1,\"ticker\":null},\"id\":\"1473\",\"type\":\"Grid\"},{\"attributes\":{\"axis_label\":\"max(Id) [A]\",\"formatter\":{\"id\":\"1572\"},\"ticker\":{\"id\":\"1471\"}},\"id\":\"1470\",\"type\":\"LinearAxis\"},{\"attributes\":{},\"id\":\"1131\",\"type\":\"ResetTool\"},{\"attributes\":{\"axis\":{\"id\":\"1466\"},\"ticker\":null},\"id\":\"1469\",\"type\":\"Grid\"},{\"attributes\":{},\"id\":\"1126\",\"type\":\"CrosshairTool\"},{\"attributes\":{\"callback\":null},\"id\":\"1474\",\"type\":\"TapTool\"},{\"attributes\":{\"overlay\":{\"id\":\"1170\"}},\"id\":\"1167\",\"type\":\"BoxZoomTool\"},{\"attributes\":{},\"id\":\"1169\",\"type\":\"ResetTool\"},{\"attributes\":{},\"id\":\"1226\",\"type\":\"BasicTickFormatter\"},{\"attributes\":{},\"id\":\"1127\",\"type\":\"PanTool\"},{\"attributes\":{\"source\":{\"id\":\"1479\"}},\"id\":\"1483\",\"type\":\"CDSView\"},{\"attributes\":{},\"id\":\"1150\",\"type\":\"DataRange1d\"},{\"attributes\":{},\"id\":\"1130\",\"type\":\"SaveTool\"},{\"attributes\":{\"overlay\":{\"id\":\"1132\"}},\"id\":\"1129\",\"type\":\"BoxZoomTool\"},{\"attributes\":{},\"id\":\"1475\",\"type\":\"ResetTool\"},{\"attributes\":{\"axis_label\":\"Id [A]\",\"formatter\":{\"id\":\"1243\"},\"ticker\":{\"id\":\"1161\"}},\"id\":\"1160\",\"type\":\"LinearAxis\"},{\"attributes\":{\"line_alpha\":0.9,\"line_width\":3,\"x\":{\"field\":\"Time\"},\"y\":{\"field\":\"Id\"}},\"id\":\"1179\",\"type\":\"Line\"},{\"attributes\":{},\"id\":\"1157\",\"type\":\"BasicTicker\"},{\"attributes\":{\"active_drag\":\"auto\",\"active_inspect\":\"auto\",\"active_multi\":null,\"active_scroll\":\"auto\",\"active_tap\":\"auto\",\"tools\":[{\"id\":\"1164\"},{\"id\":\"1165\"},{\"id\":\"1166\"},{\"id\":\"1167\"},{\"id\":\"1168\"},{\"id\":\"1169\"}]},\"id\":\"1171\",\"type\":\"Toolbar\"},{\"attributes\":{},\"id\":\"1161\",\"type\":\"BasicTicker\"},{\"attributes\":{\"data_source\":{\"id\":\"1002\"},\"glyph\":{\"id\":\"1143\"},\"hover_glyph\":null,\"muted_glyph\":null,\"nonselection_glyph\":{\"id\":\"1144\"},\"selection_glyph\":null,\"view\":{\"id\":\"1146\"}},\"id\":\"1145\",\"type\":\"GlyphRenderer\"},{\"attributes\":{},\"id\":\"1148\",\"type\":\"DataRange1d\"},{\"attributes\":{\"axis\":{\"id\":\"1156\"},\"ticker\":null},\"id\":\"1159\",\"type\":\"Grid\"},{\"attributes\":{\"bottom_units\":\"screen\",\"fill_alpha\":0.5,\"fill_color\":\"lightgrey\",\"left_units\":\"screen\",\"level\":\"overlay\",\"line_alpha\":1.0,\"line_color\":\"black\",\"line_dash\":[4,4],\"line_width\":2,\"right_units\":\"screen\",\"top_units\":\"screen\"},\"id\":\"1170\",\"type\":\"BoxAnnotation\"},{\"attributes\":{},\"id\":\"1110\",\"type\":\"DataRange1d\"},{\"attributes\":{\"line_alpha\":0.1,\"line_width\":3,\"x\":{\"field\":\"x\"},\"y\":{\"field\":\"y\"}},\"id\":\"1144\",\"type\":\"Line\"},{\"attributes\":{},\"id\":\"1116\",\"type\":\"LinearScale\"},{\"attributes\":{},\"id\":\"1114\",\"type\":\"LinearScale\"},{\"attributes\":{\"line_alpha\":0.1,\"line_width\":3,\"x\":{\"field\":\"Time\"},\"y\":{\"field\":\"Id\"}},\"id\":\"1180\",\"type\":\"Line\"},{\"attributes\":{\"active_drag\":\"auto\",\"active_inspect\":\"auto\",\"active_multi\":null,\"active_scroll\":\"auto\",\"active_tap\":\"auto\",\"tools\":[{\"id\":\"1474\"},{\"id\":\"1475\"}]},\"id\":\"1476\",\"type\":\"Toolbar\"},{\"attributes\":{\"axis_label\":\"time [mus]\",\"formatter\":{\"id\":\"1241\"},\"ticker\":{\"id\":\"1157\"}},\"id\":\"1156\",\"type\":\"LinearAxis\"},{\"attributes\":{\"text\":\"\"},\"id\":\"1232\",\"type\":\"Title\"},{\"attributes\":{\"data\":{\"Id\":{\"__ndarray__\":\"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\",\"dtype\":\"float64\",\"order\":\"little\",\"shape\":[333]},\"Te\":{\"__ndarray__\":\"AAAAAAAAAAAAAAAAAAAAAAAAAAAAAAAAAAAAAAAAAAAAAAAAAAAAAAAAAAAAAAAAAAAAAAAAAAAAAAAAAAAAAAAAAAAAAAAAAAAAAAAAAAAAAAAAAAAAAAAAAAAAAAAAAAAAAAAAAAAAAAAAAAAAAAAAAAAAAAAAAAAAAAAAAAAAAAAAAAAAAAAAAAAAAAAAAAAAAAAAAAAAAAAAAAAAAAAAAAAAAAAAAAAAAAAAAAAAAAAAAAAAAAAAAAAAAAAAAAAAAAAAAAAAAAAAAAAAAAAAAAAAAAAAAAAAAAAAAAAAAAAAAAAAAAAAAAAAAAAAAAAAAAAAAAAAAAAAAAAAAAAAAAAAAAAAAAAAAAAAAAAAAAAAAAAAAAAAAAAAAAAAAAAAAAAAAAAAAAAAAAAAAAAAAAAAAAAAAAAAAAAAAAAAAAAAAAAAAAAAAAAAAAAAAAAAAAAAAAAAAAAAAAAAAAAAAAAAAAAAAAAAAAAAAAAAAAAAAAAAAAAAAAAAAAAAAAAAAAAAAAAAAAAAAAAAAAAAAAAAAAAAAAAAAAAAAAAAAAAAAAAAAAAAAAAAAAAAAAAAAAAAAAAAAAAAAAAAAAAAAAAAAAAAAAAAAAAAAAAAAAAAAAAAAAAAAAAAAAAAAAAAAAAAAAAAAAAAAAAAAAAAAAAAAAAAAAAAAAAAAAAAAAAAAAAAAAAAAAAAAAAAAAAAAAAAAAAAAAAAAAAAAAAAAAAAAAAAAAAAAAAAAAAAAAAAAAAAAAAAAAAAAAAAAAAAAAAAAAAAAAAAAAAAAAAAAAAAAAAAAAAAAAAAAAAAAAAAAAAAAAAAAAAAAAAAAAAAAAAAAAAAAAAAAAAAAAAAAAAAAAAAAAAAAAAAAAAAAAAAAAAAAAAAAAAAAAAAAAAAAAAAAAAAAAAAAAAAAAAAAAAAAAAAAAAAAAAAAAAAAAAAAAAAAAAAAAAAAAAAAAAAAAAAAAAAAAAAAAAAAAAAAAAAAAAAAAAAAAAAAAAAAAAAAAAAAAAAAAAAAAAAAAAAAAAAAAAAAAAAAAAAAAAAAAAAAAAAAAAAAAAAAAAAAAAAAAAAAAAAAAAAAAAAAAAAAAAAAAAAAAAAAAAAAAAAAAAAAAAAAAAAAAAAAAAAAAAAAAAAAAAAAAAAAAAAAAAAAAAAAAAAAAAAAAAAAAAAAAAAAAAAAAAAAAAAAAAAAAAAAAAAAAAAAAAAAAAAAAAAAAAAAAAAAAAAAAAAAAAAAAAAAAAAAAAAAAAAAAAAAAAAAAAAAAAAAAAAAAAAAAAAAAAAAAAAAAAAAAAAAAAAAAAAAAAAAAAAAAAAAAAAAAAAAAAAAAAAAAAAAAAAAAAAAAAAAAAAAAAAAAAAAAAAAAAAAAAAAAAAAAAAAAAAAAAAAAAAAAAAAAAAAAAAAAAAAAAAAAAAAAAAAAAAAAAAAAAAAAAAAAAAAAAAAAAAAAAAAAAAAAAAAAAAAAAAAAAAAAAAAAAAAAAAAAAAAAAAAAAAAAAAAAAAAAAAAAAAAAAAAAAAAAAAAAAAAAAAAAAAAAAAAAAAAAAAAAAAAAAAAAAAAAAAAAAAAAAAAAAAAAAAAAAAAAAAAAAAAAAAAAAAAAAAAAAAAAAAAAAAAAAAAAAAAAAAAAAAAAAAAAAAAAAAAAAAAAAAAAAAAAAAAAAAAAAAAAAAAAAAAAAAAAAAAAAAAAAAAAAAAAAAAAAAAAAAAAAAAAAAAAAAAAAAAAAAAAAAAAAAAAAAAAAAAAAAAAAAAAAAAAAAAAAAAAAAAAAAAAAAAAAAAAAAAAAAAAAAAAAAAAAAAAAAAAAAAAAAAAAAAAAAAAAAAAAAAAAAAAAAAAAAAAAAAAAAAAAAAAAAAAAAAAAAAAAAAAAAAAAAAAAAAAAAAAAAAAAAAAAAAAAAAAAAAAAAAAAAAAAAAAAAAAAAAAAAAAAAAAAAAAAAAAAAAAAAAAAAAAAAAAAAAAAAAAAAAAAAAAAAAAAAAAAAAAAAAAAAAAAAAAAAAAAAAAAAAAAAAAAAAAAAAAAAAAAAAAAAAAAAAAAAAAAAAAAAAAAAAAAAAAAAAAAAAAAAAAAAAAAAAAAAAAAAAAAAAAAAAAAAAAAAAAAAAAAAAAAAAAAAAAAAAAAAAAAAAAAAAAAAAAAAAAAAAAAAAAAAAAAAAAAAAAAAAAAAAAAAAAAAAAAAAAAAAAAAAAAAAAAAAAAAAAAAAAAAAAAAAAAAAAAAAAAAAAAAAAAAAAAAAAAAAAAAAAAAAAAAAAAAAAAAAAAAAAAAAAAAAAAAAAAAAAAAAAAAAAAAAAAAAAAAAAAAAAAAAAAAAAAAAAAAAAAAAAAAAAAAAAAAAAAAAAAAAAAAAAAAAAAAAAAAAAAAAAAAAAAAAAAAAAAAAAAAAAAAAAAAAAAAAAAAAAAAAAAAAAAAAAAAAAAAAAAAAAAAAAAAAAAAAAAAAAAAAAAAAAAAAAAAAAAAAAAAAAAAAAAAAAAAAAAAAAAAAAAAAAAAAAAAAAAAAAAAAAAAAAAAAAAAAAAAAAAAAAAAAAAAAAAAAAAAAAAAAAAAAAAAAAAAAAAAAAAAAAAAAAAAAAAAAAAAAAAAAAAAAAAAAAAAAAAAAAAAAAAAAAAAAAAAAAAAAAAAAAAAAAAAAAAAAAAAAAAAAAAAAAAAAAAAAAAAAAAAAAAAAAAAAAAAAAAAAAAAAAAAAAAAAAAAAAAAAAAAAAAAAAAAAAAAAAAAAAAAAAAAAAAAAAAAAAAAAAAAAAAAAAAAAAAAAAAAAAAAAAAAAAAAAAAAAAAAAAAAAAAAAAAAAAAAAAAAAAAAAAAAAAAAAAAAAAAAAAAAAAAAAAAAAAAAAAAAAAAAAAAAAAAAAAAAAAAAAAAAAAAAAAAAAAAAAAAAAAAAAAAAAAAAAAAAAAAAAAAAAAAAAAAAAAAAAAAAAAAAAAAAAAAAAAAAAAAAAAAAAAAAAAAAAAAAAAAAAAAAAAAAAAAAAAAAAAAAAAAAAAAAAAAAAAAAAAAAAAAAAAAAAAAAAAAAAAAAAAAAAAAAAAAAAAAAAAAAAAAAAAAAAAAAAAAAAAAAAAAAAAAAAAAAAAAAAAAAAAAAAAAAAAAAAAAAAAAAAAAAAAAAAAAAAAAAAAAAAAAAAAAAAAAAAAAAAAAAAAAAAAAAAAAAAAAAAAAAAAAAAAAAAAAAAAAAAAAAAAAAAAAAAAAAAAAAAAAAAAAAAAAAAAAAAAAAAAAAAAAAAAAAAAAAAAAAAAAAAAAAAAAAAAAAAAAAAAAAAAAAAAAAAAAAAAAAAAAAAAAAAAAAAAAAAAAAAAAAAAAAAAAAAAAAAAAAAAAAAAAAAAAAAAAAAAAAAAAAAAAAAAAAAAAAAAAAAAAAAAAAAAAAAAAAAAAAAAAAAAAAAAAAAAAAAAAAAAAAAAAAAAAAAAAAAAAAAAAAAAAAAAAAAAAAAAAAAAAAAAAAAAAAAAAAAAAAAAAAAAAAAAAAAAAAAAAAAAAAAAAAAAAAAAAAAAAAAAAAAAAAAAAAAAAAAAAAAAAAAAAAAAAAAAAAAAAAAAAAAAAAAAAA\",\"dtype\":\"float64\",\"order\":\"little\",\"shape\":[333]},\"Time\":{\"__ndarray__\":\"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\",\"dtype\":\"float64\",\"order\":\"little\",\"shape\":[333]},\"Ud\":{\"__ndarray__\":\"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\",\"dtype\":\"float64\",\"order\":\"little\",\"shape\":[333]}},\"selected\":{\"id\":\"1247\"},\"selection_policy\":{\"id\":\"1246\"}},\"id\":\"1108\",\"type\":\"ColumnDataSource\"},{\"attributes\":{\"background_fill_color\":\"#fafafa\",\"below\":[{\"id\":\"1118\"}],\"center\":[{\"id\":\"1121\"},{\"id\":\"1125\"}],\"left\":[{\"id\":\"1122\"}],\"plot_height\":500,\"plot_width\":400,\"renderers\":[{\"id\":\"1145\"}],\"title\":{\"id\":\"1141\"},\"toolbar\":{\"id\":\"1133\"},\"toolbar_location\":\"left\",\"toolbar_sticky\":false,\"x_range\":{\"id\":\"1110\"},\"x_scale\":{\"id\":\"1114\"},\"y_range\":{\"id\":\"1484\"},\"y_scale\":{\"id\":\"1116\"}},\"id\":\"1109\",\"subtype\":\"Figure\",\"type\":\"Plot\"},{\"attributes\":{},\"id\":\"1168\",\"type\":\"SaveTool\"},{\"attributes\":{},\"id\":\"1165\",\"type\":\"PanTool\"},{\"attributes\":{\"data\":{\"E\":{\"__ndarray__\":\"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\",\"dtype\":\"float64\",\"order\":\"little\",\"shape\":[201]},\"Te\":{\"__ndarray__\":\"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\",\"dtype\":\"float64\",\"order\":\"little\",\"shape\":[201]},\"ng\":{\"__ndarray__\":\"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\",\"dtype\":\"float64\",\"order\":\"little\",\"shape\":[201]},\"ni\":{\"__ndarray__\":\"9G4xbuHTIj70bjFu4dMiPvRuMW7h0yI+9G4xbuHTIj70bjFu4dMiPvRuMW7h0yI+9G4xbuHTIj70bjFu4dMiPvRuMW7h0yI+9G4xbuHTIj70bjFu4dMiPvRuMW7h0yI+9G4xbuHTIj70bjFu4dMiPvRuMW7h0yI+9G4xbuHTIj70bjFu4dMiPvRuMW7h0yI+9G4xbuHTIj70bjFu4dMiPvRuMW7h0yI+9G4xbuHTIj70bjFu4dMiPvRuMW7h0yI+9G4xbuHTIj70bjFu4dMiPvRuMW7h0yI+9G4xbuHTIj70bjFu4dMiPvRuMW7h0yI+9G4xbuHTIj70bjFu4dMiPvRuMW7h0yI+9G4xbuHTIj70bjFu4dMiPvRuMW7h0yI+9G4xbuHTIj70bjFu4dMiPvRuMW7h0yI+9G4xbuHTIj70bjFu4dMiPvRuMW7h0yI+9G4xbuHTIj70bjFu4dMiPvRuMW7h0yI+9G4xbuHTIj70bjFu4dMiPvRuMW7h0yI+9G4xbuHTIj70bjFu4dMiPvRuMW7h0yI+9G4xbuHTIj70bjFu4dMiPvRuMW7h0yI+9G4xbuHTIj70bjFu4dMiPvRuMW7h0yI+9G4xbuHTIj70bjFu4dMiPvRuMW7h0yI+brMeSW/UIj7a6aNcdtkiPgZzSyE+4iI+gWJBYSDuIj7C8TujlfwiPu2SMo0tDSM+ojmyf4kfIz5qe9mxWDMjPrrW41ZVSCM+wOJqfkJeIz6f2Bh66nQjPiRrJaQdjCM+6bv3bLGjIz7oAbWdf7sjPo8Wm8Jl0yM+kwKSs0TrIz64+uAzAAMkPmxPvqN+GiQ+2YK+v6gxJD5/nhpraUgkPuSheoKtXiQ+fjZ4tWN0JD4yHnRlfIkkPurSpojpnSQ+Es2QkJ6xJD4eZx1TkMQkPnCj7/W01iQ+ZaNs2wPoJD5KLi6RdfgkPuWXmb8DCCU+HqhlGqkWJT78oeVRYSQlPtTC+AQpMSU+NQGFs/08JT550Wmx3UclPmyI3BnIUSU+k9Ujw7xaJT7656oyvGIlPq9HZ5HHaSU+KF+OoOBvJT60MZmuCXUlPi3ilYxFeSU+54XHg5d8JT4mW5VLA38lPrDfyv+MgCU+JH8qFzmBJT4EqFRaDIElPrUQBdsLgCU+Ytmn6zx+JT6mCEgXpXslPhqk2BlKeCU+4l3Z2DF0JT55gldcYm8lPox9S8jhaSU+JPdSVrZjJT6cM8dP5lwlPp8LLwh4VSU+nX4L2HFNJT6Xkv0X2kQlPtTpQxy3OyU+xTCOMA8yJT7gRySU6CclPhzSXnZJHSU+ap9u8zcSJT7iO3ARugYlPp7HyL3V+iQ+8xrJypDuJD5oIJTt8OEkPjA6Rbz71CQ+8nhTrLbHJD7DXS4RJ7okPuTWEBtSrCQ+tBoH1jyeJD4K8iMp7I8kPuTe4dVkgSQ+bkmsd6tyJD6zWoyDxGMkPvY89Ee0VCQ+Zr6h7H5FJD6nNo5yKDYkPqT627O0JiQ+jsCnYycXJD4dypINhAckPlXAuxTO9yM+4dmlsQjoIz5HtC7uNtgjPgflDJ5byCM+eSMvUXm4Iz5SO1s7kqgjPryAAAmomCM+5MNHk7uIIz6xezxbzHgjPvIWf6LXaCM+wvxv2tZYIz60+NvxvEgjPpWFobxxOCM+abSpUMonIz5GKshUfRYjPg1dBW0XBCM+I4dK7R7wIj4aG9RR+9siPvRuMW7h0yI+9G4xbuHTIj70bjFu4dMiPvRuMW7h0yI+9G4xbuHTIj70bjFu4dMiPvRuMW7h0yI+9G4xbuHTIj70bjFu4dMiPvRuMW7h0yI+9G4xbuHTIj70bjFu4dMiPvRuMW7h0yI+9G4xbuHTIj70bjFu4dMiPvRuMW7h0yI+9G4xbuHTIj70bjFu4dMiPvRuMW7h0yI+9G4xbuHTIj70bjFu4dMiPvRuMW7h0yI+9G4xbuHTIj70bjFu4dMiPvRuMW7h0yI+9G4xbuHTIj70bjFu4dMiPvRuMW7h0yI+9G4xbuHTIj70bjFu4dMiPvRuMW7h0yI+9G4xbuHTIj70bjFu4dMiPvRuMW7h0yI+9G4xbuHTIj70bjFu4dMiPvRuMW7h0yI+9G4xbuHTIj4cUI2NetQiPhxQjY161CI+\",\"dtype\":\"float64\",\"order\":\"little\",\"shape\":[201]},\"phi\":{\"__ndarray__\":\"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\",\"dtype\":\"float64\",\"order\":\"little\",\"shape\":[201]},\"vi\":{\"__ndarray__\":\"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\",\"dtype\":\"float64\",\"order\":\"little\",\"shape\":[201]},\"x\":{\"__ndarray__\":\"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\",\"dtype\":\"float64\",\"order\":\"little\",\"shape\":[201]},\"y\":{\"__ndarray__\":\"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\",\"dtype\":\"float64\",\"order\":\"little\",\"shape\":[201]}},\"selected\":{\"id\":\"1049\"},\"selection_policy\":{\"id\":\"1048\"}},\"id\":\"1002\",\"type\":\"ColumnDataSource\"},{\"attributes\":{\"data_source\":{\"id\":\"1479\"},\"glyph\":{\"id\":\"1480\"},\"hover_glyph\":null,\"muted_glyph\":null,\"nonselection_glyph\":{\"id\":\"1481\"},\"selection_glyph\":null,\"view\":{\"id\":\"1483\"}},\"id\":\"1482\",\"type\":\"GlyphRenderer\"},{\"attributes\":{},\"id\":\"1241\",\"type\":\"BasicTickFormatter\"},{\"attributes\":{},\"id\":\"1164\",\"type\":\"CrosshairTool\"},{\"attributes\":{\"fill_alpha\":{\"value\":0.1},\"fill_color\":{\"value\":\"#1f77b4\"},\"line_alpha\":{\"value\":0.1},\"line_color\":{\"value\":\"#1f77b4\"},\"size\":{\"units\":\"screen\",\"value\":10},\"x\":{\"field\":\"x\"},\"y\":{\"field\":\"y\"}},\"id\":\"1481\",\"type\":\"Circle\"},{\"attributes\":{\"source\":{\"id\":\"1108\"}},\"id\":\"1182\",\"type\":\"CDSView\"},{\"attributes\":{\"children\":[{\"id\":\"1455\"},{\"id\":\"1147\"}]},\"id\":\"1520\",\"type\":\"Column\"},{\"attributes\":{\"data_source\":{\"id\":\"1108\"},\"glyph\":{\"id\":\"1179\"},\"hover_glyph\":null,\"muted_glyph\":null,\"nonselection_glyph\":{\"id\":\"1180\"},\"selection_glyph\":null,\"view\":{\"id\":\"1182\"}},\"id\":\"1181\",\"type\":\"GlyphRenderer\"},{\"attributes\":{},\"id\":\"1572\",\"type\":\"BasicTickFormatter\"},{\"attributes\":{\"background_fill_color\":\"#fafafa\",\"below\":[{\"id\":\"1156\"}],\"center\":[{\"id\":\"1159\"},{\"id\":\"1163\"}],\"left\":[{\"id\":\"1160\"}],\"plot_height\":250,\"plot_width\":400,\"renderers\":[{\"id\":\"1181\"},{\"id\":\"1183\"}],\"title\":{\"id\":\"1232\"},\"toolbar\":{\"id\":\"1171\"},\"toolbar_sticky\":false,\"x_range\":{\"id\":\"1148\"},\"x_scale\":{\"id\":\"1152\"},\"y_range\":{\"id\":\"1150\"},\"y_scale\":{\"id\":\"1154\"}},\"id\":\"1147\",\"subtype\":\"Figure\",\"type\":\"Plot\"},{\"attributes\":{},\"id\":\"1166\",\"type\":\"WheelZoomTool\"},{\"attributes\":{},\"id\":\"1570\",\"type\":\"BasicTickFormatter\"},{\"attributes\":{\"axis\":{\"id\":\"1118\"},\"ticker\":null},\"id\":\"1121\",\"type\":\"Grid\"},{\"attributes\":{},\"id\":\"1578\",\"type\":\"Selection\"},{\"attributes\":{\"active_drag\":null,\"active_inspect\":\"auto\",\"active_multi\":null,\"active_scroll\":\"auto\",\"active_tap\":\"auto\",\"tools\":[{\"id\":\"1126\"},{\"id\":\"1127\"},{\"id\":\"1128\"},{\"id\":\"1129\"},{\"id\":\"1130\"},{\"id\":\"1131\"}]},\"id\":\"1133\",\"type\":\"Toolbar\"},{\"attributes\":{},\"id\":\"1577\",\"type\":\"UnionRenderers\"},{\"attributes\":{},\"id\":\"1228\",\"type\":\"BasicTickFormatter\"},{\"attributes\":{},\"id\":\"1152\",\"type\":\"LinearScale\"},{\"attributes\":{},\"id\":\"1243\",\"type\":\"BasicTickFormatter\"},{\"attributes\":{\"axis\":{\"id\":\"1160\"},\"dimension\":1,\"ticker\":null},\"id\":\"1163\",\"type\":\"Grid\"},{\"attributes\":{},\"id\":\"1119\",\"type\":\"BasicTicker\"},{\"attributes\":{\"axis_label\":\"Position [cm]\",\"formatter\":{\"id\":\"1226\"},\"ticker\":{\"id\":\"1119\"}},\"id\":\"1118\",\"type\":\"LinearAxis\"}],\"root_ids\":[\"1521\"]},\"title\":\"Bokeh Application\",\"version\":\"2.2.1\"}};\n",
       "  var render_items = [{\"docid\":\"dfbc4fa7-de3e-4dc7-a3c8-a18e7ae138c0\",\"notebook_comms_target\":\"1582\",\"root_ids\":[\"1521\"],\"roots\":{\"1521\":\"3e5445ed-d213-4c8a-9caf-426deb56bc7e\"}}];\n",
       "  root.Bokeh.embed.embed_items_notebook(docs_json, render_items);\n",
       "\n",
       "  }\n",
       "  if (root.Bokeh !== undefined) {\n",
       "    embed_document(root);\n",
       "  } else {\n",
       "    var attempts = 0;\n",
       "    var timer = setInterval(function(root) {\n",
       "      if (root.Bokeh !== undefined) {\n",
       "        clearInterval(timer);\n",
       "        embed_document(root);\n",
       "      } else {\n",
       "        attempts++;\n",
       "        if (attempts > 100) {\n",
       "          clearInterval(timer);\n",
       "          console.log(\"Bokeh: ERROR: Unable to run BokehJS code because BokehJS library is missing\");\n",
       "        }\n",
       "      }\n",
       "    }, 10, root)\n",
       "  }\n",
       "})(window);"
      ],
      "application/vnd.bokehjs_exec.v0+json": ""
     },
     "metadata": {
      "application/vnd.bokehjs_exec.v0+json": {
       "id": "1521"
      }
     },
     "output_type": "display_data"
    }
   ],
   "source": [
    "\n",
    "scatter_plot = figure( plot_width=400,\n",
    "              plot_height=250,\n",
    "              toolbar_location=\"right\",\n",
    "              toolbar_sticky=False,\n",
    "              tools= \"tap,reset\",\n",
    "             background_fill_color=\"#fafafa\",\n",
    "                     title=\"Click on a point !\")\n",
    "scatter_plot.xaxis.axis_label = \"Ud [V]\"\n",
    "scatter_plot.yaxis.axis_label = \"max(Id) [A]\"\n",
    "\n",
    "n_cases = len(results_ud_noRLC)\n",
    "\n",
    "id_cases = [ r[\"Id\"].max() for name, r in results_ud_noRLC]\n",
    "\n",
    "scat_id = scatter_plot.circle(x=ud_list,\n",
    "                              y=id_cases,\n",
    "                              size=10)\n",
    "\n",
    "\n",
    "plot_space.y_range=Range1d(-0.1, 1.2)\n",
    "\n",
    "layout = row([plot_space, column([scatter_plot, plot_time])])\n",
    "handle = show(layout, notebook_handle=True)\n",
    "\n",
    "\n"
   ]
  },
  {
   "cell_type": "code",
   "execution_count": 21,
   "metadata": {
    "ExecuteTime": {
     "end_time": "2021-05-11T09:32:20.750162Z",
     "start_time": "2021-05-11T09:32:20.748030Z"
    }
   },
   "outputs": [],
   "source": [
    "from ipywidgets import interact, FloatSlider, IntSlider, Dropdown\n"
   ]
  },
  {
   "cell_type": "code",
   "execution_count": 24,
   "metadata": {
    "ExecuteTime": {
     "end_time": "2021-05-11T09:33:03.374285Z",
     "start_time": "2021-05-11T09:33:03.304918Z"
    }
   },
   "outputs": [
    {
     "data": {
      "application/vnd.jupyter.widget-view+json": {
       "model_id": "4798f44565154d2a8b9e97f3cc1c29ce",
       "version_major": 2,
       "version_minor": 0
      },
      "text/plain": [
       "interactive(children=(Dropdown(description='toplot', options=('ng', 'ni', 'phi'), value='ng'), IntSlider(value…"
      ]
     },
     "metadata": {},
     "output_type": "display_data"
    }
   ],
   "source": [
    "\n",
    "def update_time(toplot, timestep=0):\n",
    "    \n",
    "    data_to_plot=toplot\n",
    "    timestep_plotted = timestep\n",
    "    \n",
    "    ud_index = np.argmin(np.abs(np.array(ud_list) - ud ))\n",
    "    print(ud_index)\n",
    "    randomname, A = results_ud_noRLC[ud_index]\n",
    "\n",
    "    B = {\"Time\":A[\"Time\"], \"Id\": A[\"Id\"], \"Ud\":A[\"Ud\"], \"Te\":A[\"Te\"]}\n",
    "\n",
    "    profile_ng.data_source.data.update(timestep_to_dict(A, int(timestep)) )\n",
    "    profile_ng.data_source.data[\"y\"] = profile_ng.data_source.data[toplot]\n",
    "    \n",
    "    plot_space.title.text =  title_texts[toplot] + f\", t = {B['Time'][timestep]*1e3:2.2f} ms\"\n",
    "    \n",
    "    current_time_line.location = B['Time'][timestep_plotted]\n",
    "    temporal_id.data_source.data.update( B)\n",
    "    \n",
    "    push_notebook(handle=handle)\n",
    "    \n",
    "timeslider = IntSlider(value=200,min=0, max=len(B[\"Time\"])-1, step=1, )\n",
    "varable_choice = Dropdown(options=[\"ng\", \"ni\", \"phi\"], value=\"ng\")\n",
    "    \n",
    "taptool = scatter_plot.select(dict(type=TapTool))[0]\n",
    "taptool.callback = CustomJS(args=dict(scatter_plot=scatter_plot), code=\"\"\"\n",
    "        var d1 = cb_data.geometries.x;\n",
    "        var kernel = IPython.notebook.kernel;\n",
    "        kernel.execute(\"ud = \" + d1);\n",
    "        kernel.execute(\"update_time(varable_choice.value,timeslider.value) \");\n",
    "        \"\"\"\n",
    ")\n",
    "\n",
    "inter = interact(update_time, toplot =varable_choice , timestep=timeslider)\n"
   ]
  },
  {
   "cell_type": "code",
   "execution_count": null,
   "metadata": {},
   "outputs": [],
   "source": []
  }
 ],
 "metadata": {
  "hide_input": false,
  "kernelspec": {
   "display_name": "Python 3.7",
   "language": "python",
   "name": "python3"
  },
  "language_info": {
   "codemirror_mode": {
    "name": "ipython",
    "version": 3
   },
   "file_extension": ".py",
   "mimetype": "text/x-python",
   "name": "python",
   "nbconvert_exporter": "python",
   "pygments_lexer": "ipython3",
   "version": "3.7.10"
  },
  "latex_envs": {
   "LaTeX_envs_menu_present": true,
   "autoclose": true,
   "autocomplete": false,
   "bibliofile": "biblio.bib",
   "cite_by": "apalike",
   "current_citInitial": 1,
   "eqLabelWithNumbers": true,
   "eqNumInitial": 1,
   "hotkeys": {
    "equation": "Ctrl-E",
    "itemize": "Ctrl-I"
   },
   "labels_anchors": false,
   "latex_user_defs": false,
   "report_style_numbering": false,
   "user_envs_cfg": false
  },
  "pycharm": {
   "stem_cell": {
    "cell_type": "raw",
    "metadata": {
     "collapsed": false
    },
    "source": []
   }
  },
  "toc": {
   "base_numbering": 1,
   "nav_menu": {},
   "number_sections": true,
   "sideBar": true,
   "skip_h1_title": false,
   "title_cell": "Table of Contents",
   "title_sidebar": "Contents",
   "toc_cell": false,
   "toc_position": {},
   "toc_section_display": true,
   "toc_window_display": false
  },
  "varInspector": {
   "cols": {
    "lenName": 16,
    "lenType": 16,
    "lenVar": 40
   },
   "kernels_config": {
    "python": {
     "delete_cmd_postfix": "",
     "delete_cmd_prefix": "del ",
     "library": "var_list.py",
     "varRefreshCmd": "print(var_dic_list())"
    },
    "r": {
     "delete_cmd_postfix": ") ",
     "delete_cmd_prefix": "rm(",
     "library": "var_list.r",
     "varRefreshCmd": "cat(var_dic_list()) "
    }
   },
   "types_to_exclude": [
    "module",
    "function",
    "builtin_function_or_method",
    "instance",
    "_Feature"
   ],
   "window_display": false
  }
 },
 "nbformat": 4,
 "nbformat_minor": 4
}
